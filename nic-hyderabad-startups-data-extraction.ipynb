{
 "cells": [
  {
   "cell_type": "markdown",
   "id": "d4cfd346",
   "metadata": {
    "papermill": {
     "duration": 0.006131,
     "end_time": "2024-06-25T20:17:29.300022",
     "exception": false,
     "start_time": "2024-06-25T20:17:29.293891",
     "status": "completed"
    },
    "tags": []
   },
   "source": [
    "# Scraping Startup Data from NIC (National Incubation Center) Hyderabad Sindh, Pakistan\n",
    "\n",
    "## Introduction\n",
    "\n",
    "The National Incubation Center (NIC) Hyderabad is a hub for fostering innovation and entrepreneurship in Sindh, Pakistan. This notebook aims to scrape and compile data on startups from the NIC Hyderabad website. The objective is to gather information on the startups, including their names, descriptions, and links to their detailed profiles, which can be used for further analysis and research.\n",
    "\n",
    "## 1. Setup and Libraries\n",
    "\n",
    "In this section, we will import the necessary libraries required for web scraping and data processing."
   ]
  },
  {
   "cell_type": "code",
   "execution_count": 1,
   "id": "14205a89",
   "metadata": {
    "_cell_guid": "b1076dfc-b9ad-4769-8c92-a6c4dae69d19",
    "_uuid": "8f2839f25d086af736a60e9eeb907d3b93b6e0e5",
    "execution": {
     "iopub.execute_input": "2024-06-25T20:17:29.318070Z",
     "iopub.status.busy": "2024-06-25T20:17:29.316966Z",
     "iopub.status.idle": "2024-06-25T20:17:30.619186Z",
     "shell.execute_reply": "2024-06-25T20:17:30.618056Z"
    },
    "papermill": {
     "duration": 1.315633,
     "end_time": "2024-06-25T20:17:30.621893",
     "exception": false,
     "start_time": "2024-06-25T20:17:29.306260",
     "status": "completed"
    },
    "tags": []
   },
   "outputs": [],
   "source": [
    "import numpy as np # linear algebra\n",
    "import pandas as pd # data processing, CSV file I/O (e.g. pd.read_csv)\n",
    "import requests\n",
    "from bs4 import BeautifulSoup"
   ]
  },
  {
   "cell_type": "markdown",
   "id": "7754c957",
   "metadata": {
    "papermill": {
     "duration": 0.005197,
     "end_time": "2024-06-25T20:17:30.632854",
     "exception": false,
     "start_time": "2024-06-25T20:17:30.627657",
     "status": "completed"
    },
    "tags": []
   },
   "source": [
    "## 3. Web Scraping\n",
    "### Base URL and Headers\n",
    "We define the base URL for NIC Hyderabad cohorts and set headers to mimic a real browser."
   ]
  },
  {
   "cell_type": "code",
   "execution_count": 2,
   "id": "5d5456ec",
   "metadata": {
    "execution": {
     "iopub.execute_input": "2024-06-25T20:17:30.645812Z",
     "iopub.status.busy": "2024-06-25T20:17:30.645251Z",
     "iopub.status.idle": "2024-06-25T20:17:30.651407Z",
     "shell.execute_reply": "2024-06-25T20:17:30.649897Z"
    },
    "papermill": {
     "duration": 0.015662,
     "end_time": "2024-06-25T20:17:30.654006",
     "exception": false,
     "start_time": "2024-06-25T20:17:30.638344",
     "status": "completed"
    },
    "tags": []
   },
   "outputs": [],
   "source": [
    "# Base URL adding 1, 2, 3, end of will make the change the round/cohort\n",
    "url = 'https://nichyderabad.com/about/cohort-'\n",
    "\n",
    "# Set headers to mimic a real browser\n",
    "headers = {'User-Agent': 'Mozilla/5.0 (Windows NT 10.0; Win64; x64) AppleWebKit/537.36 (KHTML, like Gecko) Chrome/91.0.4472.124 Safari/537.36'}"
   ]
  },
  {
   "cell_type": "markdown",
   "id": "d9458de2",
   "metadata": {
    "papermill": {
     "duration": 0.005263,
     "end_time": "2024-06-25T20:17:30.665428",
     "exception": false,
     "start_time": "2024-06-25T20:17:30.660165",
     "status": "completed"
    },
    "tags": []
   },
   "source": [
    "## 3. Fetching Data from NIC Hyderabad\n",
    "We fetch the web pages for each cohort and parse the HTML content."
   ]
  },
  {
   "cell_type": "code",
   "execution_count": 3,
   "id": "a525124d",
   "metadata": {
    "execution": {
     "iopub.execute_input": "2024-06-25T20:17:30.679835Z",
     "iopub.status.busy": "2024-06-25T20:17:30.679402Z",
     "iopub.status.idle": "2024-06-25T20:17:32.921250Z",
     "shell.execute_reply": "2024-06-25T20:17:32.919887Z"
    },
    "papermill": {
     "duration": 2.252919,
     "end_time": "2024-06-25T20:17:32.924058",
     "exception": false,
     "start_time": "2024-06-25T20:17:30.671139",
     "status": "completed"
    },
    "tags": []
   },
   "outputs": [],
   "source": [
    "# to temprary save all the responces\n",
    "responses = {'cohorts':[], 'sope':[]}\n",
    "\n",
    "# itrating ovwer all the cohorts page\n",
    "for i in range(1, 5): # till this date 24/06/2024 we only have four cohorts\n",
    "  # fatching the page of the iterate index\n",
    "  response= requests.get(url+f'{i}', headers=headers)\n",
    "  # only if the request is seccefull\n",
    "  if response.status_code == 200:\n",
    "    # save the cohort to the responses\n",
    "    responses['cohorts'].append(i)\n",
    "    # turning the responce to sope\n",
    "    soup = BeautifulSoup(response.content, 'html.parser')\n",
    "    # saving that sope in responses\n",
    "    responses['sope'].append(soup)\n",
    "  else: print(response.status_code, 'for searching cohort', i)"
   ]
  },
  {
   "cell_type": "markdown",
   "id": "570a22de",
   "metadata": {
    "papermill": {
     "duration": 0.005437,
     "end_time": "2024-06-25T20:17:32.935066",
     "exception": false,
     "start_time": "2024-06-25T20:17:32.929629",
     "status": "completed"
    },
    "tags": []
   },
   "source": [
    "### Extracting Data for Each Cohort\n",
    "We extract the relevant data (company names, URL of the each startup's profile page, and cohort session) from each cohort's page.\n",
    "#### Cohort 1"
   ]
  },
  {
   "cell_type": "code",
   "execution_count": 4,
   "id": "5b2ff41a",
   "metadata": {
    "execution": {
     "iopub.execute_input": "2024-06-25T20:17:32.947795Z",
     "iopub.status.busy": "2024-06-25T20:17:32.947448Z",
     "iopub.status.idle": "2024-06-25T20:17:32.952669Z",
     "shell.execute_reply": "2024-06-25T20:17:32.951314Z"
    },
    "papermill": {
     "duration": 0.014537,
     "end_time": "2024-06-25T20:17:32.955302",
     "exception": false,
     "start_time": "2024-06-25T20:17:32.940765",
     "status": "completed"
    },
    "tags": []
   },
   "outputs": [],
   "source": [
    "# for cohort 1\n",
    "soup_cohort1 = responses['sope'][0]"
   ]
  },
  {
   "cell_type": "code",
   "execution_count": 5,
   "id": "6ffafa9e",
   "metadata": {
    "execution": {
     "iopub.execute_input": "2024-06-25T20:17:32.968357Z",
     "iopub.status.busy": "2024-06-25T20:17:32.967993Z",
     "iopub.status.idle": "2024-06-25T20:17:32.979186Z",
     "shell.execute_reply": "2024-06-25T20:17:32.978016Z"
    },
    "papermill": {
     "duration": 0.020756,
     "end_time": "2024-06-25T20:17:32.981927",
     "exception": false,
     "start_time": "2024-06-25T20:17:32.961171",
     "status": "completed"
    },
    "tags": []
   },
   "outputs": [
    {
     "name": "stdout",
     "output_type": "stream",
     "text": [
      "Total number of retrieve compony in cohort-1 20\n"
     ]
    }
   ],
   "source": [
    "# selecting all \"div\" eiliments with class content-container\n",
    "content_container = soup_cohort1.find_all('div', class_='content-container')\n",
    "print('Total number of retrieve compony in cohort-1', len(content_container))"
   ]
  },
  {
   "cell_type": "code",
   "execution_count": 6,
   "id": "b7ea4225",
   "metadata": {
    "execution": {
     "iopub.execute_input": "2024-06-25T20:17:32.995217Z",
     "iopub.status.busy": "2024-06-25T20:17:32.994431Z",
     "iopub.status.idle": "2024-06-25T20:17:33.002104Z",
     "shell.execute_reply": "2024-06-25T20:17:33.000922Z"
    },
    "papermill": {
     "duration": 0.016978,
     "end_time": "2024-06-25T20:17:33.004584",
     "exception": false,
     "start_time": "2024-06-25T20:17:32.987606",
     "status": "completed"
    },
    "tags": []
   },
   "outputs": [],
   "source": [
    "NIC = {'NIC-URL':[], 'cohort':[]}\n",
    "\n",
    "for i in content_container:\n",
    "  if i.find('p').find_all('a') != []:\n",
    "    startup_url=i.find('p').find_all('a')[0].get('href')\n",
    "    NIC[\"NIC-URL\"].append(startup_url)\n",
    "\n",
    "# adding 1 to each cohort equel to the number of the other observation\n",
    "NIC[\"cohort\"]=[1]*len(NIC[\"NIC-URL\"])"
   ]
  },
  {
   "cell_type": "code",
   "execution_count": 7,
   "id": "6ad5af45",
   "metadata": {
    "execution": {
     "iopub.execute_input": "2024-06-25T20:17:33.018330Z",
     "iopub.status.busy": "2024-06-25T20:17:33.017475Z",
     "iopub.status.idle": "2024-06-25T20:17:33.047321Z",
     "shell.execute_reply": "2024-06-25T20:17:33.046051Z"
    },
    "papermill": {
     "duration": 0.039607,
     "end_time": "2024-06-25T20:17:33.050046",
     "exception": false,
     "start_time": "2024-06-25T20:17:33.010439",
     "status": "completed"
    },
    "tags": []
   },
   "outputs": [
    {
     "data": {
      "text/html": [
       "<div>\n",
       "<style scoped>\n",
       "    .dataframe tbody tr th:only-of-type {\n",
       "        vertical-align: middle;\n",
       "    }\n",
       "\n",
       "    .dataframe tbody tr th {\n",
       "        vertical-align: top;\n",
       "    }\n",
       "\n",
       "    .dataframe thead th {\n",
       "        text-align: right;\n",
       "    }\n",
       "</style>\n",
       "<table border=\"1\" class=\"dataframe\">\n",
       "  <thead>\n",
       "    <tr style=\"text-align: right;\">\n",
       "      <th></th>\n",
       "      <th>NIC-URL</th>\n",
       "      <th>cohort</th>\n",
       "    </tr>\n",
       "  </thead>\n",
       "  <tbody>\n",
       "    <tr>\n",
       "      <th>0</th>\n",
       "      <td>https://nichyderabad.com/about/cohort-1/emplai/</td>\n",
       "      <td>1</td>\n",
       "    </tr>\n",
       "    <tr>\n",
       "      <th>1</th>\n",
       "      <td>https://nichyderabad.com/about/cohort-1/agridu...</td>\n",
       "      <td>1</td>\n",
       "    </tr>\n",
       "    <tr>\n",
       "      <th>2</th>\n",
       "      <td>https://nichyderabad.com/about/cohort-1/seevit...</td>\n",
       "      <td>1</td>\n",
       "    </tr>\n",
       "    <tr>\n",
       "      <th>3</th>\n",
       "      <td>https://nichyderabad.com/about/cohort-1/monitr/</td>\n",
       "      <td>1</td>\n",
       "    </tr>\n",
       "    <tr>\n",
       "      <th>4</th>\n",
       "      <td>https://nichyderabad.com/about/cohort-1/upni-m...</td>\n",
       "      <td>1</td>\n",
       "    </tr>\n",
       "    <tr>\n",
       "      <th>5</th>\n",
       "      <td>https://nichyderabad.com/about/cohort-1/techfu...</td>\n",
       "      <td>1</td>\n",
       "    </tr>\n",
       "    <tr>\n",
       "      <th>6</th>\n",
       "      <td>https://nichyderabad.com/about/cohort-1/pak-bi...</td>\n",
       "      <td>1</td>\n",
       "    </tr>\n",
       "    <tr>\n",
       "      <th>7</th>\n",
       "      <td>https://nichyderabad.com/about/cohort-1/qualit...</td>\n",
       "      <td>1</td>\n",
       "    </tr>\n",
       "    <tr>\n",
       "      <th>8</th>\n",
       "      <td>https://nichyderabad.com/about/cohort-1/rentary/</td>\n",
       "      <td>1</td>\n",
       "    </tr>\n",
       "    <tr>\n",
       "      <th>9</th>\n",
       "      <td>https://nichyderabad.com/about/cohort-1/blocks...</td>\n",
       "      <td>1</td>\n",
       "    </tr>\n",
       "    <tr>\n",
       "      <th>10</th>\n",
       "      <td>https://nichyderabad.com/about/cohort-1/salon-...</td>\n",
       "      <td>1</td>\n",
       "    </tr>\n",
       "    <tr>\n",
       "      <th>11</th>\n",
       "      <td>https://nichyderabad.com/about/cohort-1/nanote...</td>\n",
       "      <td>1</td>\n",
       "    </tr>\n",
       "    <tr>\n",
       "      <th>12</th>\n",
       "      <td>https://nichyderabad.com/about/cohort-1/dbargain/</td>\n",
       "      <td>1</td>\n",
       "    </tr>\n",
       "    <tr>\n",
       "      <th>13</th>\n",
       "      <td>https://nichyderabad.com/about/cohort-1/sahulat/</td>\n",
       "      <td>1</td>\n",
       "    </tr>\n",
       "    <tr>\n",
       "      <th>14</th>\n",
       "      <td>https://nichyderabad.com/about/cohort-1/gems-r...</td>\n",
       "      <td>1</td>\n",
       "    </tr>\n",
       "    <tr>\n",
       "      <th>15</th>\n",
       "      <td>https://nichyderabad.com/about/cohort-1/verbue/</td>\n",
       "      <td>1</td>\n",
       "    </tr>\n",
       "    <tr>\n",
       "      <th>16</th>\n",
       "      <td>https://nichyderabad.com/about/cohort-1/mixeal/</td>\n",
       "      <td>1</td>\n",
       "    </tr>\n",
       "    <tr>\n",
       "      <th>17</th>\n",
       "      <td>https://nichyderabad.com/about/cohort-1/alt-ed/</td>\n",
       "      <td>1</td>\n",
       "    </tr>\n",
       "  </tbody>\n",
       "</table>\n",
       "</div>"
      ],
      "text/plain": [
       "                                              NIC-URL  cohort\n",
       "0     https://nichyderabad.com/about/cohort-1/emplai/       1\n",
       "1   https://nichyderabad.com/about/cohort-1/agridu...       1\n",
       "2   https://nichyderabad.com/about/cohort-1/seevit...       1\n",
       "3     https://nichyderabad.com/about/cohort-1/monitr/       1\n",
       "4   https://nichyderabad.com/about/cohort-1/upni-m...       1\n",
       "5   https://nichyderabad.com/about/cohort-1/techfu...       1\n",
       "6   https://nichyderabad.com/about/cohort-1/pak-bi...       1\n",
       "7   https://nichyderabad.com/about/cohort-1/qualit...       1\n",
       "8    https://nichyderabad.com/about/cohort-1/rentary/       1\n",
       "9   https://nichyderabad.com/about/cohort-1/blocks...       1\n",
       "10  https://nichyderabad.com/about/cohort-1/salon-...       1\n",
       "11  https://nichyderabad.com/about/cohort-1/nanote...       1\n",
       "12  https://nichyderabad.com/about/cohort-1/dbargain/       1\n",
       "13   https://nichyderabad.com/about/cohort-1/sahulat/       1\n",
       "14  https://nichyderabad.com/about/cohort-1/gems-r...       1\n",
       "15    https://nichyderabad.com/about/cohort-1/verbue/       1\n",
       "16    https://nichyderabad.com/about/cohort-1/mixeal/       1\n",
       "17    https://nichyderabad.com/about/cohort-1/alt-ed/       1"
      ]
     },
     "execution_count": 7,
     "metadata": {},
     "output_type": "execute_result"
    }
   ],
   "source": [
    "NIC_df = pd.DataFrame(NIC)\n",
    "NIC_df.head(20)"
   ]
  },
  {
   "cell_type": "markdown",
   "id": "4aa4c4cb",
   "metadata": {
    "papermill": {
     "duration": 0.005793,
     "end_time": "2024-06-25T20:17:33.061918",
     "exception": false,
     "start_time": "2024-06-25T20:17:33.056125",
     "status": "completed"
    },
    "tags": []
   },
   "source": [
    "#### Fetching the all the other cohorts"
   ]
  },
  {
   "cell_type": "code",
   "execution_count": 8,
   "id": "373b4735",
   "metadata": {
    "execution": {
     "iopub.execute_input": "2024-06-25T20:17:33.076082Z",
     "iopub.status.busy": "2024-06-25T20:17:33.075677Z",
     "iopub.status.idle": "2024-06-25T20:17:33.168506Z",
     "shell.execute_reply": "2024-06-25T20:17:33.167271Z"
    },
    "papermill": {
     "duration": 0.103142,
     "end_time": "2024-06-25T20:17:33.170976",
     "exception": false,
     "start_time": "2024-06-25T20:17:33.067834",
     "status": "completed"
    },
    "tags": []
   },
   "outputs": [
    {
     "name": "stdout",
     "output_type": "stream",
     "text": [
      "Total number of retrieve compony in cohort-2 are 28\n",
      "Total number of retrieve compony in cohort-3 are 20\n",
      "Total number of retrieve compony in cohort-4 are 14\n"
     ]
    }
   ],
   "source": [
    "total_page = len(responses['sope'])\n",
    "# cohort 2 and on\n",
    "for i in range(1, total_page):\n",
    "  sope_cohort = responses['sope'][i]\n",
    "  # find all \"a\" tages with heading-link class ans store in list\n",
    "  a_tags = sope_cohort.find_all('a', class_='heading-link')\n",
    "  print(f'Total number of retrieve compony in cohort-{i+1} are', len(a_tags))\n",
    "  for j in a_tags:\n",
    "    # add the company, url, and cohort 2 to the NIC_df\n",
    "    NIC_df.loc[len(NIC_df)] = [j.get('href'), 2]"
   ]
  },
  {
   "cell_type": "code",
   "execution_count": 9,
   "id": "3c2b9a82",
   "metadata": {
    "execution": {
     "iopub.execute_input": "2024-06-25T20:17:33.185308Z",
     "iopub.status.busy": "2024-06-25T20:17:33.184881Z",
     "iopub.status.idle": "2024-06-25T20:17:33.197734Z",
     "shell.execute_reply": "2024-06-25T20:17:33.196606Z"
    },
    "papermill": {
     "duration": 0.023195,
     "end_time": "2024-06-25T20:17:33.200278",
     "exception": false,
     "start_time": "2024-06-25T20:17:33.177083",
     "status": "completed"
    },
    "tags": []
   },
   "outputs": [],
   "source": [
    "NIC_df.drop_duplicates(subset='NIC-URL', inplace=True)"
   ]
  },
  {
   "cell_type": "code",
   "execution_count": 10,
   "id": "54c4c9c5",
   "metadata": {
    "execution": {
     "iopub.execute_input": "2024-06-25T20:17:33.214664Z",
     "iopub.status.busy": "2024-06-25T20:17:33.214274Z",
     "iopub.status.idle": "2024-06-25T20:17:33.224325Z",
     "shell.execute_reply": "2024-06-25T20:17:33.223156Z"
    },
    "papermill": {
     "duration": 0.02046,
     "end_time": "2024-06-25T20:17:33.226942",
     "exception": false,
     "start_time": "2024-06-25T20:17:33.206482",
     "status": "completed"
    },
    "tags": []
   },
   "outputs": [
    {
     "data": {
      "text/html": [
       "<div>\n",
       "<style scoped>\n",
       "    .dataframe tbody tr th:only-of-type {\n",
       "        vertical-align: middle;\n",
       "    }\n",
       "\n",
       "    .dataframe tbody tr th {\n",
       "        vertical-align: top;\n",
       "    }\n",
       "\n",
       "    .dataframe thead th {\n",
       "        text-align: right;\n",
       "    }\n",
       "</style>\n",
       "<table border=\"1\" class=\"dataframe\">\n",
       "  <thead>\n",
       "    <tr style=\"text-align: right;\">\n",
       "      <th></th>\n",
       "      <th>NIC-URL</th>\n",
       "      <th>cohort</th>\n",
       "    </tr>\n",
       "  </thead>\n",
       "  <tbody>\n",
       "  </tbody>\n",
       "</table>\n",
       "</div>"
      ],
      "text/plain": [
       "Empty DataFrame\n",
       "Columns: [NIC-URL, cohort]\n",
       "Index: []"
      ]
     },
     "execution_count": 10,
     "metadata": {},
     "output_type": "execute_result"
    }
   ],
   "source": [
    "NIC_df[NIC_df['NIC-URL'].duplicated(keep=False)]"
   ]
  },
  {
   "cell_type": "markdown",
   "id": "310f91ac",
   "metadata": {
    "papermill": {
     "duration": 0.00622,
     "end_time": "2024-06-25T20:17:33.239436",
     "exception": false,
     "start_time": "2024-06-25T20:17:33.233216",
     "status": "completed"
    },
    "tags": []
   },
   "source": [
    "*Note: Now that we have the like for each page of the startup on NIC website, we will start to fatch the data from thos page*"
   ]
  },
  {
   "cell_type": "code",
   "execution_count": 11,
   "id": "599447f2",
   "metadata": {
    "execution": {
     "iopub.execute_input": "2024-06-25T20:17:33.254139Z",
     "iopub.status.busy": "2024-06-25T20:17:33.253723Z",
     "iopub.status.idle": "2024-06-25T20:17:33.260169Z",
     "shell.execute_reply": "2024-06-25T20:17:33.259044Z"
    },
    "papermill": {
     "duration": 0.016997,
     "end_time": "2024-06-25T20:17:33.262610",
     "exception": false,
     "start_time": "2024-06-25T20:17:33.245613",
     "status": "completed"
    },
    "tags": []
   },
   "outputs": [],
   "source": [
    "def get_soup(link_:str) -> BeautifulSoup:\n",
    "    response = requests.get(link_, headers=headers)\n",
    "    if response.status_code == 200:\n",
    "        soup = BeautifulSoup(response.content, 'html.parser')\n",
    "        return soup\n",
    "    else:\n",
    "        print(response.status_code, 'for', link_)"
   ]
  },
  {
   "cell_type": "code",
   "execution_count": 12,
   "id": "fc56f16f",
   "metadata": {
    "execution": {
     "iopub.execute_input": "2024-06-25T20:17:33.276628Z",
     "iopub.status.busy": "2024-06-25T20:17:33.276250Z",
     "iopub.status.idle": "2024-06-25T20:18:04.603083Z",
     "shell.execute_reply": "2024-06-25T20:18:04.601527Z"
    },
    "papermill": {
     "duration": 31.336789,
     "end_time": "2024-06-25T20:18:04.605587",
     "exception": false,
     "start_time": "2024-06-25T20:17:33.268798",
     "status": "completed"
    },
    "tags": []
   },
   "outputs": [
    {
     "name": "stdout",
     "output_type": "stream",
     "text": [
      "0 https://nichyderabad.com/about/cohort-1/emplai/\n",
      "1 https://nichyderabad.com/about/cohort-1/agridunya-technologies/\n",
      "2 https://nichyderabad.com/about/cohort-1/seevitals-solutions/\n",
      "3 https://nichyderabad.com/about/cohort-1/monitr/\n",
      "4 https://nichyderabad.com/about/cohort-1/upni-market/\n",
      "5 https://nichyderabad.com/about/cohort-1/techfuturic/\n",
      "6 https://nichyderabad.com/about/cohort-1/pak-bioenergy/\n",
      "7 https://nichyderabad.com/about/cohort-1/quality-butler-services/\n",
      "8 https://nichyderabad.com/about/cohort-1/rentary/\n",
      "9 https://nichyderabad.com/about/cohort-1/blockshippro/\n",
      "10 https://nichyderabad.com/about/cohort-1/salon-tracer/\n",
      "11 https://nichyderabad.com/about/cohort-1/nanotechx/\n",
      "12 https://nichyderabad.com/about/cohort-1/dbargain/\n",
      "13 https://nichyderabad.com/about/cohort-1/sahulat/\n",
      "14 https://nichyderabad.com/about/cohort-1/gems-rock-bid/\n",
      "15 https://nichyderabad.com/about/cohort-1/verbue/\n",
      "16 https://nichyderabad.com/about/cohort-1/mixeal/\n",
      "17 https://nichyderabad.com/about/cohort-1/alt-ed/\n",
      "18 https://nichyderabad.com/about/cohort-2/bgrow-tech/\n",
      "19 https://nichyderabad.com/about/cohort-2/evolvve/\n",
      "20 https://nichyderabad.com/about/cohort-2/indraaj/\n",
      "21 https://nichyderabad.com/about/cohort-2/navi-space/\n",
      "22 https://nichyderabad.com/about/cohort-2/opd/\n",
      "23 https://nichyderabad.com/?page_id=9974&preview=true\n",
      "24 https://nichyderabad.com/about/cohort-2/khudi-talks/\n",
      "25 https://nichyderabad.com/about/cohort-2/bt-studios/\n",
      "26 https://nichyderabad.com/about/cohort-2/ab-textiles/\n",
      "27 https://nichyderabad.com/about/cohort-2/digimart/\n",
      "28 https://nichyderabad.com/about/cohort-2/intratrace/\n",
      "29 https://nichyderabad.com/about/cohort-2/nettax/\n",
      "30 https://nichyderabad.com/?page_id=9957&preview=true\n",
      "31 https://nichyderabad.com/?page_id=9976&preview=true\n",
      "32 https://nichyderabad.com/about/cohort-2/digital-cartel/\n",
      "33 https://nichyderabad.com/about/cohort-2/aizaz-clothing/\n",
      "34 https://nichyderabad.com/about/cohort-2/gbm-enterprises/\n",
      "35 https://nichyderabad.com/?page_id=9913&preview=true\n",
      "36 https://nichyderabad.com/about/cohort-2/rentpayy/\n",
      "37 https://nichyderabad.com/about/cohort-2/spotout/\n",
      "38 https://nichyderabad.com/about/cohort-2/circular-ride/\n",
      "39 https://nichyderabad.com/about/cohort-2/furnisho/\n",
      "40 https://nichyderabad.com/about/cohort-2/her-sahulat/\n",
      "41 https://nichyderabad.com/about/cohort-2/greenyields/\n",
      "42 https://nichyderabad.com/about/cohort-2/m-h-panhwer/\n",
      "43 https://nichyderabad.com/about/cohort-2/ns-highway/\n",
      "44 https://nichyderabad.com/about/cohort-2/stitch-and-sew/\n",
      "45 https://nichyderabad.com/about/cohort-2/easy-bazaar/\n",
      "46 https://nichyderabad.com/about/cohort-3/brisk-predict/\n",
      "47 https://nichyderabad.com/about/cohort-3/decentrai/\n",
      "48 https://nichyderabad.com/about/cohort-3/medsocial/\n",
      "49 https://nichyderabad.com/about/cohort-3/phonedost/\n",
      "50 https://nichyderabad.com/about/cohort-3/zeal-arts/\n",
      "51 https://nichyderabad.com/about/cohort-3/beauty-pro/\n",
      "52 https://nichyderabad.com/about/cohort-3/foodyhub/\n",
      "54 https://nichyderabad.com/about/cohort-3/sub-bachao/\n",
      "55 https://nichyderabad.com/about/cohort-3/am-solar/\n",
      "56 https://nichyderabad.com/about/cohort-3/crystal-essence/\n",
      "57 https://nichyderabad.com/about/cohort-3/lawfied/\n",
      "58 https://nichyderabad.com/about/cohort-3/mukand-herbs/\n",
      "59 https://nichyderabad.com/about/cohort-3/sobdar-it-solution/\n",
      "60 https://nichyderabad.com/about/cohort-3/cardlytics/\n",
      "61 https://nichyderabad.com/about/cohort-3/civilai/\n",
      "62 https://nichyderabad.com/about/cohort-3/mauvzhale/\n",
      "63 https://nichyderabad.com/about/cohort-3/peekaboo-child-learning-sanctuary/\n",
      "64 https://nichyderabad.com/about/cohort-3/umme-hamood/\n",
      "65 https://nichyderabad.com/about/cohort-3/gamers-thrust/\n",
      "66 https://nichyderabad.com/about/cohort-4/rent-hives/\n",
      "67 https://nichyderabad.com/about/cohort-4/brand-craft-studio/\n",
      "68 https://nichyderabad.com/about/cohort-4/furnishabhi/\n",
      "69 https://nichyderabad.com/about/cohort-4/bid-2-build/\n",
      "70 https://nichyderabad.com/about/cohort-4/asancars/\n",
      "71 https://nichyderabad.com/about/cohort-4/burq-7-tech/\n",
      "72 https://nichyderabad.com/about/cohort-4/aashi-herbs/\n",
      "73 https://nichyderabad.com/about/cohort-4/clothiex/\n",
      "74 https://nichyderabad.com/about/cohort-4/aurataaq/\n",
      "75 https://nichyderabad.com/?page_id=10985&preview=true\n",
      "76 https://nichyderabad.com/about/cohort-4/divine-knots/\n",
      "77 https://nichyderabad.com/about/cohort-4/islame/\n",
      "78 https://nichyderabad.com/about/cohort-4/farmloop-technologies/\n",
      "79 https://nichyderabad.com/?page_id=10953&preview=true\n"
     ]
    }
   ],
   "source": [
    "import re\n",
    "\n",
    "for i in NIC_df['NIC-URL'].index:\n",
    "  soup = get_soup(NIC_df['NIC-URL'][i])\n",
    "  table_div = soup.find('div', class_= re.compile(r'fusion-text fusion-text-2.*'))\n",
    "  print(i, NIC_df['NIC-URL'][i])\n",
    "  table = table_div.find('table')\n",
    "\n",
    "  # Iterate over each row in the table\n",
    "  for row in table.find_all('tr'):\n",
    "      # Extract columns from each row\n",
    "      columns = row.find_all('td')\n",
    "      # Get the text content of each column and strip any extra whitespace\n",
    "      columns = [col.get_text(strip=True) for col in columns]\n",
    "      # add this info to the NIC_df where only have three columns [company\tNIC-URL\tcohort]\n",
    "      if len(columns) >= 2:\n",
    "        NIC_df.loc[i, columns[0]] = columns[1]"
   ]
  },
  {
   "cell_type": "code",
   "execution_count": 13,
   "id": "fc06f9b5",
   "metadata": {
    "execution": {
     "iopub.execute_input": "2024-06-25T20:18:04.629542Z",
     "iopub.status.busy": "2024-06-25T20:18:04.629162Z",
     "iopub.status.idle": "2024-06-25T20:18:04.635988Z",
     "shell.execute_reply": "2024-06-25T20:18:04.635025Z"
    },
    "papermill": {
     "duration": 0.021865,
     "end_time": "2024-06-25T20:18:04.638498",
     "exception": false,
     "start_time": "2024-06-25T20:18:04.616633",
     "status": "completed"
    },
    "tags": []
   },
   "outputs": [
    {
     "data": {
      "text/plain": [
       "Index(['NIC-URL', 'cohort', 'STARTUP', 'STARTUP STAGE', 'DOMAIN', 'WEBSITE',\n",
       "       'FOUNDER', 'CONTACT', 'EMAIL'],\n",
       "      dtype='object')"
      ]
     },
     "execution_count": 13,
     "metadata": {},
     "output_type": "execute_result"
    }
   ],
   "source": [
    "NIC_df.columns"
   ]
  },
  {
   "cell_type": "code",
   "execution_count": 14,
   "id": "3be7b74f",
   "metadata": {
    "execution": {
     "iopub.execute_input": "2024-06-25T20:18:04.663914Z",
     "iopub.status.busy": "2024-06-25T20:18:04.663501Z",
     "iopub.status.idle": "2024-06-25T20:18:04.672057Z",
     "shell.execute_reply": "2024-06-25T20:18:04.670877Z"
    },
    "papermill": {
     "duration": 0.023726,
     "end_time": "2024-06-25T20:18:04.674369",
     "exception": false,
     "start_time": "2024-06-25T20:18:04.650643",
     "status": "completed"
    },
    "tags": []
   },
   "outputs": [],
   "source": [
    "NIC_df = NIC_df.replace('', pd.NA).replace('–', pd.NA)"
   ]
  },
  {
   "cell_type": "markdown",
   "id": "6a23ac9b",
   "metadata": {
    "papermill": {
     "duration": 0.010928,
     "end_time": "2024-06-25T20:18:04.696560",
     "exception": false,
     "start_time": "2024-06-25T20:18:04.685632",
     "status": "completed"
    },
    "tags": []
   },
   "source": [
    "## 4. Saving the Data\n",
    "Finally, we save the collected and processed data to a CSV file for future analysis."
   ]
  },
  {
   "cell_type": "code",
   "execution_count": 15,
   "id": "41944e16",
   "metadata": {
    "execution": {
     "iopub.execute_input": "2024-06-25T20:18:04.720638Z",
     "iopub.status.busy": "2024-06-25T20:18:04.720219Z",
     "iopub.status.idle": "2024-06-25T20:18:04.731231Z",
     "shell.execute_reply": "2024-06-25T20:18:04.729929Z"
    },
    "papermill": {
     "duration": 0.026178,
     "end_time": "2024-06-25T20:18:04.733926",
     "exception": false,
     "start_time": "2024-06-25T20:18:04.707748",
     "status": "completed"
    },
    "tags": []
   },
   "outputs": [],
   "source": [
    "NIC_df.to_csv('NIC-hydrabad_startups-data.csv')"
   ]
  },
  {
   "cell_type": "markdown",
   "id": "8044dee6",
   "metadata": {
    "papermill": {
     "duration": 0.010971,
     "end_time": "2024-06-25T20:18:04.756429",
     "exception": false,
     "start_time": "2024-06-25T20:18:04.745458",
     "status": "completed"
    },
    "tags": []
   },
   "source": [
    "## Accessing the Data\n",
    "\n",
    "The dataset generated from this notebook can be accessed through GitHub: [NIC Startups Data](https://github.com/codewithawr/NIC-hydrabad-Startups-Data)"
   ]
  },
  {
   "cell_type": "markdown",
   "id": "8fe059f4",
   "metadata": {
    "papermill": {
     "duration": 0.010883,
     "end_time": "2024-06-25T20:18:04.778505",
     "exception": false,
     "start_time": "2024-06-25T20:18:04.767622",
     "status": "completed"
    },
    "tags": []
   },
   "source": [
    "## Appendix\n",
    "### Additional Information\n",
    "- Source: National Incubation Center (NIC) Hyderabad website\n",
    "- Date of Data Collection: 24/06/2024\n",
    "- Acknowledgments: Thanks to NIC Hyderabad for providing access to the startup information"
   ]
  }
 ],
 "metadata": {
  "kaggle": {
   "accelerator": "none",
   "dataSources": [],
   "dockerImageVersionId": 30732,
   "isGpuEnabled": false,
   "isInternetEnabled": true,
   "language": "python",
   "sourceType": "notebook"
  },
  "kernelspec": {
   "display_name": "Python 3",
   "language": "python",
   "name": "python3"
  },
  "language_info": {
   "codemirror_mode": {
    "name": "ipython",
    "version": 3
   },
   "file_extension": ".py",
   "mimetype": "text/x-python",
   "name": "python",
   "nbconvert_exporter": "python",
   "pygments_lexer": "ipython3",
   "version": "3.10.13"
  },
  "papermill": {
   "default_parameters": {},
   "duration": 39.044409,
   "end_time": "2024-06-25T20:18:05.412500",
   "environment_variables": {},
   "exception": null,
   "input_path": "__notebook__.ipynb",
   "output_path": "__notebook__.ipynb",
   "parameters": {},
   "start_time": "2024-06-25T20:17:26.368091",
   "version": "2.5.0"
  }
 },
 "nbformat": 4,
 "nbformat_minor": 5
}
