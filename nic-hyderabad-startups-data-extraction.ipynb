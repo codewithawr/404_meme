{
 "cells": [
  {
   "cell_type": "markdown",
   "id": "262298ad",
   "metadata": {
    "papermill": {
     "duration": 0.009265,
     "end_time": "2024-06-25T21:00:15.874548",
     "exception": false,
     "start_time": "2024-06-25T21:00:15.865283",
     "status": "completed"
    },
    "tags": []
   },
   "source": [
    "# Scraping Startup Data from NIC (National Incubation Center) Hyderabad Sindh, Pakistan\n",
    "\n",
    "## Introduction\n",
    "\n",
    "The National Incubation Center (NIC) Hyderabad is a hub for fostering innovation and entrepreneurship in Sindh, Pakistan. This notebook aims to scrape and compile data on startups from the NIC Hyderabad website. The objective is to gather information on the startups, including their names, descriptions, and links to their detailed profiles, which can be used for further analysis and research.\n",
    "\n",
    "## 1. Setup and Libraries\n",
    "\n",
    "In this section, we will import the necessary libraries required for web scraping and data processing."
   ]
  },
  {
   "cell_type": "code",
   "execution_count": 1,
   "id": "058615f5",
   "metadata": {
    "_cell_guid": "b1076dfc-b9ad-4769-8c92-a6c4dae69d19",
    "_uuid": "8f2839f25d086af736a60e9eeb907d3b93b6e0e5",
    "execution": {
     "iopub.execute_input": "2024-06-25T21:00:15.894730Z",
     "iopub.status.busy": "2024-06-25T21:00:15.894225Z",
     "iopub.status.idle": "2024-06-25T21:00:17.343463Z",
     "shell.execute_reply": "2024-06-25T21:00:17.341885Z"
    },
    "papermill": {
     "duration": 1.463023,
     "end_time": "2024-06-25T21:00:17.346674",
     "exception": false,
     "start_time": "2024-06-25T21:00:15.883651",
     "status": "completed"
    },
    "tags": []
   },
   "outputs": [],
   "source": [
    "import pandas as pd \n",
    "import requests\n",
    "from bs4 import BeautifulSoup"
   ]
  },
  {
   "cell_type": "markdown",
   "id": "86b7ac55",
   "metadata": {
    "papermill": {
     "duration": 0.009848,
     "end_time": "2024-06-25T21:00:17.365244",
     "exception": false,
     "start_time": "2024-06-25T21:00:17.355396",
     "status": "completed"
    },
    "tags": []
   },
   "source": [
    "## 3. Web Scraping\n",
    "### Base URL and Headers\n",
    "We define the base URL for NIC Hyderabad cohorts and set headers to mimic a real browser."
   ]
  },
  {
   "cell_type": "code",
   "execution_count": 2,
   "id": "c1d2c822",
   "metadata": {
    "execution": {
     "iopub.execute_input": "2024-06-25T21:00:17.384424Z",
     "iopub.status.busy": "2024-06-25T21:00:17.383714Z",
     "iopub.status.idle": "2024-06-25T21:00:17.390899Z",
     "shell.execute_reply": "2024-06-25T21:00:17.389271Z"
    },
    "papermill": {
     "duration": 0.020601,
     "end_time": "2024-06-25T21:00:17.394071",
     "exception": false,
     "start_time": "2024-06-25T21:00:17.373470",
     "status": "completed"
    },
    "tags": []
   },
   "outputs": [],
   "source": [
    "# Base URL adding 1, 2, 3, end of will make the change the round/cohort\n",
    "url = 'https://nichyderabad.com/about/cohort-'\n",
    "\n",
    "# Set headers to mimic a real browser\n",
    "headers = {'User-Agent': 'Mozilla/5.0 (Windows NT 10.0; Win64; x64) AppleWebKit/537.36 (KHTML, like Gecko) Chrome/91.0.4472.124 Safari/537.36'}"
   ]
  },
  {
   "cell_type": "markdown",
   "id": "ce4d956c",
   "metadata": {
    "papermill": {
     "duration": 0.008853,
     "end_time": "2024-06-25T21:00:17.411709",
     "exception": false,
     "start_time": "2024-06-25T21:00:17.402856",
     "status": "completed"
    },
    "tags": []
   },
   "source": [
    "## 3. Fetching Data from NIC Hyderabad\n",
    "We fetch the web pages for each cohort and parse the HTML content."
   ]
  },
  {
   "cell_type": "code",
   "execution_count": 3,
   "id": "5f9eb80d",
   "metadata": {
    "execution": {
     "iopub.execute_input": "2024-06-25T21:00:17.431723Z",
     "iopub.status.busy": "2024-06-25T21:00:17.431334Z",
     "iopub.status.idle": "2024-06-25T21:00:19.259188Z",
     "shell.execute_reply": "2024-06-25T21:00:19.257501Z"
    },
    "papermill": {
     "duration": 1.84217,
     "end_time": "2024-06-25T21:00:19.262882",
     "exception": false,
     "start_time": "2024-06-25T21:00:17.420712",
     "status": "completed"
    },
    "tags": []
   },
   "outputs": [],
   "source": [
    "# Initialize a dictionary to temporarily save all the responses\n",
    "responses = {'cohorts': [], 'sope': []}\n",
    "\n",
    "# Iterate over all the cohort pages (assuming there are 4 cohorts as of 24/06/2024)\n",
    "for i in range(1, 5):  # till this date 24/06/2024 we only have four cohorts\n",
    "    # Fetch the page of the current index\n",
    "    response = requests.get(url + f'{i}', headers=headers)\n",
    "    \n",
    "    # Only if the request is successful\n",
    "    if response.status_code == 200:\n",
    "        # Save the cohort number to the responses\n",
    "        responses['cohorts'].append(i)\n",
    "        \n",
    "        # Turn the response content into BeautifulSoup object\n",
    "        soup = BeautifulSoup(response.content, 'html.parser')\n",
    "        \n",
    "        # Save the BeautifulSoup object to the responses\n",
    "        responses['sope'].append(soup)\n",
    "    else:\n",
    "        # Print the status code if the request failed\n",
    "        print(response.status_code, 'for searching cohort', i)\n"
   ]
  },
  {
   "cell_type": "markdown",
   "id": "ffe608c8",
   "metadata": {
    "papermill": {
     "duration": 0.009713,
     "end_time": "2024-06-25T21:00:19.284441",
     "exception": false,
     "start_time": "2024-06-25T21:00:19.274728",
     "status": "completed"
    },
    "tags": []
   },
   "source": [
    "### Extracting Data for Each Cohort\n",
    "We extract the relevant data (company names, URL of the each startup's profile page, and cohort session) from each cohort's page.\n",
    "#### Cohort 1"
   ]
  },
  {
   "cell_type": "code",
   "execution_count": 4,
   "id": "198eb759",
   "metadata": {
    "execution": {
     "iopub.execute_input": "2024-06-25T21:00:19.304972Z",
     "iopub.status.busy": "2024-06-25T21:00:19.304298Z",
     "iopub.status.idle": "2024-06-25T21:00:19.311627Z",
     "shell.execute_reply": "2024-06-25T21:00:19.309744Z"
    },
    "papermill": {
     "duration": 0.021939,
     "end_time": "2024-06-25T21:00:19.315038",
     "exception": false,
     "start_time": "2024-06-25T21:00:19.293099",
     "status": "completed"
    },
    "tags": []
   },
   "outputs": [],
   "source": [
    "# for cohort 1\n",
    "soup_cohort1 = responses['sope'][0]"
   ]
  },
  {
   "cell_type": "code",
   "execution_count": 5,
   "id": "dd95e183",
   "metadata": {
    "execution": {
     "iopub.execute_input": "2024-06-25T21:00:19.341975Z",
     "iopub.status.busy": "2024-06-25T21:00:19.340797Z",
     "iopub.status.idle": "2024-06-25T21:00:19.355863Z",
     "shell.execute_reply": "2024-06-25T21:00:19.354393Z"
    },
    "papermill": {
     "duration": 0.032114,
     "end_time": "2024-06-25T21:00:19.359047",
     "exception": false,
     "start_time": "2024-06-25T21:00:19.326933",
     "status": "completed"
    },
    "tags": []
   },
   "outputs": [
    {
     "name": "stdout",
     "output_type": "stream",
     "text": [
      "Total number of retrieve compony in cohort-1 20\n"
     ]
    }
   ],
   "source": [
    "# selecting all \"div\" eiliments with class content-container\n",
    "content_container = soup_cohort1.find_all('div', class_='content-container')\n",
    "print('Total number of retrieve compony in cohort-1', len(content_container))"
   ]
  },
  {
   "cell_type": "code",
   "execution_count": 6,
   "id": "28095d52",
   "metadata": {
    "execution": {
     "iopub.execute_input": "2024-06-25T21:00:19.383066Z",
     "iopub.status.busy": "2024-06-25T21:00:19.382427Z",
     "iopub.status.idle": "2024-06-25T21:00:19.396360Z",
     "shell.execute_reply": "2024-06-25T21:00:19.394821Z"
    },
    "papermill": {
     "duration": 0.028379,
     "end_time": "2024-06-25T21:00:19.399448",
     "exception": false,
     "start_time": "2024-06-25T21:00:19.371069",
     "status": "completed"
    },
    "tags": []
   },
   "outputs": [],
   "source": [
    "# Initialize a dictionary to store NIC URLs and cohort numbers\n",
    "NIC = {'NIC-URL': [], 'cohort': []}\n",
    "\n",
    "# Iterate over all elements in content_container\n",
    "for i in content_container:\n",
    "    # Check if the element contains any <a> tags within a <p> tag\n",
    "    if i.find('p') and i.find('p').find_all('a') != []:\n",
    "        # Get the first <a> tag's href attribute (URL)\n",
    "        startup_url = i.find('p').find_all('a')[0].get('href')\n",
    "        # Append the URL to the 'NIC-URL' list in the NIC dictionary\n",
    "        NIC[\"NIC-URL\"].append(startup_url)\n",
    "\n",
    "# Assign a cohort number of 1 to each NIC URL\n",
    "NIC[\"cohort\"] = [1] * len(NIC[\"NIC-URL\"])\n"
   ]
  },
  {
   "cell_type": "code",
   "execution_count": 7,
   "id": "8d0e89e7",
   "metadata": {
    "execution": {
     "iopub.execute_input": "2024-06-25T21:00:19.419836Z",
     "iopub.status.busy": "2024-06-25T21:00:19.419234Z",
     "iopub.status.idle": "2024-06-25T21:00:19.455334Z",
     "shell.execute_reply": "2024-06-25T21:00:19.454087Z"
    },
    "papermill": {
     "duration": 0.051183,
     "end_time": "2024-06-25T21:00:19.459355",
     "exception": false,
     "start_time": "2024-06-25T21:00:19.408172",
     "status": "completed"
    },
    "tags": []
   },
   "outputs": [
    {
     "data": {
      "text/html": [
       "<div>\n",
       "<style scoped>\n",
       "    .dataframe tbody tr th:only-of-type {\n",
       "        vertical-align: middle;\n",
       "    }\n",
       "\n",
       "    .dataframe tbody tr th {\n",
       "        vertical-align: top;\n",
       "    }\n",
       "\n",
       "    .dataframe thead th {\n",
       "        text-align: right;\n",
       "    }\n",
       "</style>\n",
       "<table border=\"1\" class=\"dataframe\">\n",
       "  <thead>\n",
       "    <tr style=\"text-align: right;\">\n",
       "      <th></th>\n",
       "      <th>NIC-URL</th>\n",
       "      <th>cohort</th>\n",
       "    </tr>\n",
       "  </thead>\n",
       "  <tbody>\n",
       "    <tr>\n",
       "      <th>0</th>\n",
       "      <td>https://nichyderabad.com/about/cohort-1/emplai/</td>\n",
       "      <td>1</td>\n",
       "    </tr>\n",
       "    <tr>\n",
       "      <th>1</th>\n",
       "      <td>https://nichyderabad.com/about/cohort-1/agridu...</td>\n",
       "      <td>1</td>\n",
       "    </tr>\n",
       "    <tr>\n",
       "      <th>2</th>\n",
       "      <td>https://nichyderabad.com/about/cohort-1/seevit...</td>\n",
       "      <td>1</td>\n",
       "    </tr>\n",
       "    <tr>\n",
       "      <th>3</th>\n",
       "      <td>https://nichyderabad.com/about/cohort-1/monitr/</td>\n",
       "      <td>1</td>\n",
       "    </tr>\n",
       "    <tr>\n",
       "      <th>4</th>\n",
       "      <td>https://nichyderabad.com/about/cohort-1/upni-m...</td>\n",
       "      <td>1</td>\n",
       "    </tr>\n",
       "    <tr>\n",
       "      <th>5</th>\n",
       "      <td>https://nichyderabad.com/about/cohort-1/techfu...</td>\n",
       "      <td>1</td>\n",
       "    </tr>\n",
       "    <tr>\n",
       "      <th>6</th>\n",
       "      <td>https://nichyderabad.com/about/cohort-1/pak-bi...</td>\n",
       "      <td>1</td>\n",
       "    </tr>\n",
       "    <tr>\n",
       "      <th>7</th>\n",
       "      <td>https://nichyderabad.com/about/cohort-1/qualit...</td>\n",
       "      <td>1</td>\n",
       "    </tr>\n",
       "    <tr>\n",
       "      <th>8</th>\n",
       "      <td>https://nichyderabad.com/about/cohort-1/rentary/</td>\n",
       "      <td>1</td>\n",
       "    </tr>\n",
       "    <tr>\n",
       "      <th>9</th>\n",
       "      <td>https://nichyderabad.com/about/cohort-1/blocks...</td>\n",
       "      <td>1</td>\n",
       "    </tr>\n",
       "    <tr>\n",
       "      <th>10</th>\n",
       "      <td>https://nichyderabad.com/about/cohort-1/salon-...</td>\n",
       "      <td>1</td>\n",
       "    </tr>\n",
       "    <tr>\n",
       "      <th>11</th>\n",
       "      <td>https://nichyderabad.com/about/cohort-1/nanote...</td>\n",
       "      <td>1</td>\n",
       "    </tr>\n",
       "    <tr>\n",
       "      <th>12</th>\n",
       "      <td>https://nichyderabad.com/about/cohort-1/dbargain/</td>\n",
       "      <td>1</td>\n",
       "    </tr>\n",
       "    <tr>\n",
       "      <th>13</th>\n",
       "      <td>https://nichyderabad.com/about/cohort-1/sahulat/</td>\n",
       "      <td>1</td>\n",
       "    </tr>\n",
       "    <tr>\n",
       "      <th>14</th>\n",
       "      <td>https://nichyderabad.com/about/cohort-1/gems-r...</td>\n",
       "      <td>1</td>\n",
       "    </tr>\n",
       "    <tr>\n",
       "      <th>15</th>\n",
       "      <td>https://nichyderabad.com/about/cohort-1/verbue/</td>\n",
       "      <td>1</td>\n",
       "    </tr>\n",
       "    <tr>\n",
       "      <th>16</th>\n",
       "      <td>https://nichyderabad.com/about/cohort-1/mixeal/</td>\n",
       "      <td>1</td>\n",
       "    </tr>\n",
       "    <tr>\n",
       "      <th>17</th>\n",
       "      <td>https://nichyderabad.com/about/cohort-1/alt-ed/</td>\n",
       "      <td>1</td>\n",
       "    </tr>\n",
       "  </tbody>\n",
       "</table>\n",
       "</div>"
      ],
      "text/plain": [
       "                                              NIC-URL  cohort\n",
       "0     https://nichyderabad.com/about/cohort-1/emplai/       1\n",
       "1   https://nichyderabad.com/about/cohort-1/agridu...       1\n",
       "2   https://nichyderabad.com/about/cohort-1/seevit...       1\n",
       "3     https://nichyderabad.com/about/cohort-1/monitr/       1\n",
       "4   https://nichyderabad.com/about/cohort-1/upni-m...       1\n",
       "5   https://nichyderabad.com/about/cohort-1/techfu...       1\n",
       "6   https://nichyderabad.com/about/cohort-1/pak-bi...       1\n",
       "7   https://nichyderabad.com/about/cohort-1/qualit...       1\n",
       "8    https://nichyderabad.com/about/cohort-1/rentary/       1\n",
       "9   https://nichyderabad.com/about/cohort-1/blocks...       1\n",
       "10  https://nichyderabad.com/about/cohort-1/salon-...       1\n",
       "11  https://nichyderabad.com/about/cohort-1/nanote...       1\n",
       "12  https://nichyderabad.com/about/cohort-1/dbargain/       1\n",
       "13   https://nichyderabad.com/about/cohort-1/sahulat/       1\n",
       "14  https://nichyderabad.com/about/cohort-1/gems-r...       1\n",
       "15    https://nichyderabad.com/about/cohort-1/verbue/       1\n",
       "16    https://nichyderabad.com/about/cohort-1/mixeal/       1\n",
       "17    https://nichyderabad.com/about/cohort-1/alt-ed/       1"
      ]
     },
     "execution_count": 7,
     "metadata": {},
     "output_type": "execute_result"
    }
   ],
   "source": [
    "# changing it to Pandas Data Frame\n",
    "NIC_df = pd.DataFrame(NIC)\n",
    "NIC_df.head(20)"
   ]
  },
  {
   "cell_type": "markdown",
   "id": "79c4e5d6",
   "metadata": {
    "papermill": {
     "duration": 0.010683,
     "end_time": "2024-06-25T21:00:19.484155",
     "exception": false,
     "start_time": "2024-06-25T21:00:19.473472",
     "status": "completed"
    },
    "tags": []
   },
   "source": [
    "#### Fetching the all the other cohorts"
   ]
  },
  {
   "cell_type": "code",
   "execution_count": 8,
   "id": "6263b1ba",
   "metadata": {
    "execution": {
     "iopub.execute_input": "2024-06-25T21:00:19.507864Z",
     "iopub.status.busy": "2024-06-25T21:00:19.507274Z",
     "iopub.status.idle": "2024-06-25T21:00:19.611914Z",
     "shell.execute_reply": "2024-06-25T21:00:19.610255Z"
    },
    "papermill": {
     "duration": 0.118972,
     "end_time": "2024-06-25T21:00:19.614898",
     "exception": false,
     "start_time": "2024-06-25T21:00:19.495926",
     "status": "completed"
    },
    "tags": []
   },
   "outputs": [
    {
     "name": "stdout",
     "output_type": "stream",
     "text": [
      "Total number of retrieve compony in cohort-2 are 28\n",
      "Total number of retrieve compony in cohort-3 are 20\n",
      "Total number of retrieve compony in cohort-4 are 14\n"
     ]
    }
   ],
   "source": [
    "total_page = len(responses['sope'])\n",
    "# cohort 2 and on\n",
    "for i in range(1, total_page):\n",
    "  sope_cohort = responses['sope'][i]\n",
    "  # find all \"a\" tages with heading-link class ans store in list\n",
    "  a_tags = sope_cohort.find_all('a', class_='heading-link')\n",
    "  print(f'Total number of retrieve compony in cohort-{i+1} are', len(a_tags))\n",
    "  for j in a_tags:\n",
    "    # add the company, url, and cohort 2 to the NIC_df\n",
    "    NIC_df.loc[len(NIC_df)] = [j.get('href'), 2]"
   ]
  },
  {
   "cell_type": "code",
   "execution_count": 9,
   "id": "53365a2d",
   "metadata": {
    "execution": {
     "iopub.execute_input": "2024-06-25T21:00:19.637011Z",
     "iopub.status.busy": "2024-06-25T21:00:19.636459Z",
     "iopub.status.idle": "2024-06-25T21:00:19.660303Z",
     "shell.execute_reply": "2024-06-25T21:00:19.658845Z"
    },
    "papermill": {
     "duration": 0.03865,
     "end_time": "2024-06-25T21:00:19.662921",
     "exception": false,
     "start_time": "2024-06-25T21:00:19.624271",
     "status": "completed"
    },
    "tags": []
   },
   "outputs": [
    {
     "data": {
      "text/html": [
       "<div>\n",
       "<style scoped>\n",
       "    .dataframe tbody tr th:only-of-type {\n",
       "        vertical-align: middle;\n",
       "    }\n",
       "\n",
       "    .dataframe tbody tr th {\n",
       "        vertical-align: top;\n",
       "    }\n",
       "\n",
       "    .dataframe thead th {\n",
       "        text-align: right;\n",
       "    }\n",
       "</style>\n",
       "<table border=\"1\" class=\"dataframe\">\n",
       "  <thead>\n",
       "    <tr style=\"text-align: right;\">\n",
       "      <th></th>\n",
       "      <th>NIC-URL</th>\n",
       "      <th>cohort</th>\n",
       "    </tr>\n",
       "  </thead>\n",
       "  <tbody>\n",
       "    <tr>\n",
       "      <th>27</th>\n",
       "      <td>https://nichyderabad.com/about/cohort-2/digimart/</td>\n",
       "      <td>2</td>\n",
       "    </tr>\n",
       "    <tr>\n",
       "      <th>53</th>\n",
       "      <td>https://nichyderabad.com/about/cohort-2/digimart/</td>\n",
       "      <td>2</td>\n",
       "    </tr>\n",
       "  </tbody>\n",
       "</table>\n",
       "</div>"
      ],
      "text/plain": [
       "                                              NIC-URL  cohort\n",
       "27  https://nichyderabad.com/about/cohort-2/digimart/       2\n",
       "53  https://nichyderabad.com/about/cohort-2/digimart/       2"
      ]
     },
     "execution_count": 9,
     "metadata": {},
     "output_type": "execute_result"
    }
   ],
   "source": [
    "# Identify all rows where the 'NIC-URL' column has duplicate values\n",
    "duplicates = NIC_df[NIC_df['NIC-URL'].duplicated(keep=False)]\n",
    "duplicates"
   ]
  },
  {
   "cell_type": "code",
   "execution_count": 10,
   "id": "a4e6ee30",
   "metadata": {
    "execution": {
     "iopub.execute_input": "2024-06-25T21:00:19.685327Z",
     "iopub.status.busy": "2024-06-25T21:00:19.684291Z",
     "iopub.status.idle": "2024-06-25T21:00:19.692378Z",
     "shell.execute_reply": "2024-06-25T21:00:19.690858Z"
    },
    "papermill": {
     "duration": 0.021856,
     "end_time": "2024-06-25T21:00:19.694918",
     "exception": false,
     "start_time": "2024-06-25T21:00:19.673062",
     "status": "completed"
    },
    "tags": []
   },
   "outputs": [],
   "source": [
    "# Remove duplicate rows based on the 'NIC-URL' column\n",
    "NIC_df.drop_duplicates(subset='NIC-URL', inplace=True)\n"
   ]
  },
  {
   "cell_type": "markdown",
   "id": "55a8d647",
   "metadata": {
    "papermill": {
     "duration": 0.009412,
     "end_time": "2024-06-25T21:00:19.714355",
     "exception": false,
     "start_time": "2024-06-25T21:00:19.704943",
     "status": "completed"
    },
    "tags": []
   },
   "source": [
    "*Note: Now that we have the like for each page of the startup on NIC website, we will start to fatch the data from thos page*"
   ]
  },
  {
   "cell_type": "code",
   "execution_count": 11,
   "id": "7cd2ad14",
   "metadata": {
    "execution": {
     "iopub.execute_input": "2024-06-25T21:00:19.738803Z",
     "iopub.status.busy": "2024-06-25T21:00:19.738319Z",
     "iopub.status.idle": "2024-06-25T21:00:19.747490Z",
     "shell.execute_reply": "2024-06-25T21:00:19.745955Z"
    },
    "papermill": {
     "duration": 0.024115,
     "end_time": "2024-06-25T21:00:19.750316",
     "exception": false,
     "start_time": "2024-06-25T21:00:19.726201",
     "status": "completed"
    },
    "tags": []
   },
   "outputs": [],
   "source": [
    "def get_soup(link_: str) -> BeautifulSoup:\n",
    "    # Send an HTTP GET request to the specified link\n",
    "    response = requests.get(link_, headers=headers)\n",
    "    \n",
    "    # Check if the request was successful (status code 200)\n",
    "    if response.status_code == 200:\n",
    "        # Parse the response content using BeautifulSoup\n",
    "        soup = BeautifulSoup(response.content, 'html.parser')\n",
    "        # Return the BeautifulSoup object\n",
    "        return soup\n",
    "    else:\n",
    "        # Print the status code if the request failed\n",
    "        print(response.status_code, 'for', link_)"
   ]
  },
  {
   "cell_type": "code",
   "execution_count": 12,
   "id": "47546b51",
   "metadata": {
    "execution": {
     "iopub.execute_input": "2024-06-25T21:00:19.771605Z",
     "iopub.status.busy": "2024-06-25T21:00:19.771134Z",
     "iopub.status.idle": "2024-06-25T21:00:43.715188Z",
     "shell.execute_reply": "2024-06-25T21:00:43.713705Z"
    },
    "papermill": {
     "duration": 23.958602,
     "end_time": "2024-06-25T21:00:43.718628",
     "exception": false,
     "start_time": "2024-06-25T21:00:19.760026",
     "status": "completed"
    },
    "tags": []
   },
   "outputs": [
    {
     "name": "stdout",
     "output_type": "stream",
     "text": [
      "0 https://nichyderabad.com/about/cohort-1/emplai/\n",
      "1 https://nichyderabad.com/about/cohort-1/agridunya-technologies/\n",
      "2 https://nichyderabad.com/about/cohort-1/seevitals-solutions/\n",
      "3 https://nichyderabad.com/about/cohort-1/monitr/\n",
      "4 https://nichyderabad.com/about/cohort-1/upni-market/\n",
      "5 https://nichyderabad.com/about/cohort-1/techfuturic/\n",
      "6 https://nichyderabad.com/about/cohort-1/pak-bioenergy/\n",
      "7 https://nichyderabad.com/about/cohort-1/quality-butler-services/\n",
      "8 https://nichyderabad.com/about/cohort-1/rentary/\n",
      "9 https://nichyderabad.com/about/cohort-1/blockshippro/\n",
      "10 https://nichyderabad.com/about/cohort-1/salon-tracer/\n",
      "11 https://nichyderabad.com/about/cohort-1/nanotechx/\n",
      "12 https://nichyderabad.com/about/cohort-1/dbargain/\n",
      "13 https://nichyderabad.com/about/cohort-1/sahulat/\n",
      "14 https://nichyderabad.com/about/cohort-1/gems-rock-bid/\n",
      "15 https://nichyderabad.com/about/cohort-1/verbue/\n",
      "16 https://nichyderabad.com/about/cohort-1/mixeal/\n",
      "17 https://nichyderabad.com/about/cohort-1/alt-ed/\n",
      "18 https://nichyderabad.com/about/cohort-2/bgrow-tech/\n",
      "19 https://nichyderabad.com/about/cohort-2/evolvve/\n",
      "20 https://nichyderabad.com/about/cohort-2/indraaj/\n",
      "21 https://nichyderabad.com/about/cohort-2/navi-space/\n",
      "22 https://nichyderabad.com/about/cohort-2/opd/\n",
      "23 https://nichyderabad.com/?page_id=9974&preview=true\n",
      "24 https://nichyderabad.com/about/cohort-2/khudi-talks/\n",
      "25 https://nichyderabad.com/about/cohort-2/bt-studios/\n",
      "26 https://nichyderabad.com/about/cohort-2/ab-textiles/\n",
      "27 https://nichyderabad.com/about/cohort-2/digimart/\n",
      "28 https://nichyderabad.com/about/cohort-2/intratrace/\n",
      "29 https://nichyderabad.com/about/cohort-2/nettax/\n",
      "30 https://nichyderabad.com/?page_id=9957&preview=true\n",
      "31 https://nichyderabad.com/?page_id=9976&preview=true\n",
      "32 https://nichyderabad.com/about/cohort-2/digital-cartel/\n",
      "33 https://nichyderabad.com/about/cohort-2/aizaz-clothing/\n",
      "34 https://nichyderabad.com/about/cohort-2/gbm-enterprises/\n",
      "35 https://nichyderabad.com/?page_id=9913&preview=true\n",
      "36 https://nichyderabad.com/about/cohort-2/rentpayy/\n",
      "37 https://nichyderabad.com/about/cohort-2/spotout/\n",
      "38 https://nichyderabad.com/about/cohort-2/circular-ride/\n",
      "39 https://nichyderabad.com/about/cohort-2/furnisho/\n",
      "40 https://nichyderabad.com/about/cohort-2/her-sahulat/\n",
      "41 https://nichyderabad.com/about/cohort-2/greenyields/\n",
      "42 https://nichyderabad.com/about/cohort-2/m-h-panhwer/\n",
      "43 https://nichyderabad.com/about/cohort-2/ns-highway/\n",
      "44 https://nichyderabad.com/about/cohort-2/stitch-and-sew/\n",
      "45 https://nichyderabad.com/about/cohort-2/easy-bazaar/\n",
      "46 https://nichyderabad.com/about/cohort-3/brisk-predict/\n",
      "47 https://nichyderabad.com/about/cohort-3/decentrai/\n",
      "48 https://nichyderabad.com/about/cohort-3/medsocial/\n",
      "49 https://nichyderabad.com/about/cohort-3/phonedost/\n",
      "50 https://nichyderabad.com/about/cohort-3/zeal-arts/\n",
      "51 https://nichyderabad.com/about/cohort-3/beauty-pro/\n",
      "52 https://nichyderabad.com/about/cohort-3/foodyhub/\n",
      "54 https://nichyderabad.com/about/cohort-3/sub-bachao/\n",
      "55 https://nichyderabad.com/about/cohort-3/am-solar/\n",
      "56 https://nichyderabad.com/about/cohort-3/crystal-essence/\n",
      "57 https://nichyderabad.com/about/cohort-3/lawfied/\n",
      "58 https://nichyderabad.com/about/cohort-3/mukand-herbs/\n",
      "59 https://nichyderabad.com/about/cohort-3/sobdar-it-solution/\n",
      "60 https://nichyderabad.com/about/cohort-3/cardlytics/\n",
      "61 https://nichyderabad.com/about/cohort-3/civilai/\n",
      "62 https://nichyderabad.com/about/cohort-3/mauvzhale/\n",
      "63 https://nichyderabad.com/about/cohort-3/peekaboo-child-learning-sanctuary/\n",
      "64 https://nichyderabad.com/about/cohort-3/umme-hamood/\n",
      "65 https://nichyderabad.com/about/cohort-3/gamers-thrust/\n",
      "66 https://nichyderabad.com/about/cohort-4/rent-hives/\n",
      "67 https://nichyderabad.com/about/cohort-4/brand-craft-studio/\n",
      "68 https://nichyderabad.com/about/cohort-4/furnishabhi/\n",
      "69 https://nichyderabad.com/about/cohort-4/bid-2-build/\n",
      "70 https://nichyderabad.com/about/cohort-4/asancars/\n",
      "71 https://nichyderabad.com/about/cohort-4/burq-7-tech/\n",
      "72 https://nichyderabad.com/about/cohort-4/aashi-herbs/\n",
      "73 https://nichyderabad.com/about/cohort-4/clothiex/\n",
      "74 https://nichyderabad.com/about/cohort-4/aurataaq/\n",
      "75 https://nichyderabad.com/?page_id=10985&preview=true\n",
      "76 https://nichyderabad.com/about/cohort-4/divine-knots/\n",
      "77 https://nichyderabad.com/about/cohort-4/islame/\n",
      "78 https://nichyderabad.com/about/cohort-4/farmloop-technologies/\n",
      "79 https://nichyderabad.com/?page_id=10953&preview=true\n"
     ]
    }
   ],
   "source": [
    "import re\n",
    "\n",
    "# Iterate over the index of each URL in the 'NIC-URL' column of NIC_df\n",
    "for i in NIC_df['NIC-URL'].index:\n",
    "    # Fetch the HTML content of the page using the get_soup function\n",
    "    soup = get_soup(NIC_df['NIC-URL'][i])\n",
    "    \n",
    "    # Find the <div> element that matches the specified class pattern\n",
    "    table_div = soup.find('div', class_=re.compile(r'fusion-text fusion-text-2.*'))\n",
    "    \n",
    "    # Print the current index and the NIC URL\n",
    "    print(i, NIC_df['NIC-URL'][i])\n",
    "    \n",
    "    # Find the <table> element within the located <div> element\n",
    "    table = table_div.find('table')\n",
    "\n",
    "    # Iterate over each row in the table\n",
    "    for row in table.find_all('tr'):\n",
    "        \n",
    "        # Extract columns from each row\n",
    "        columns = row.find_all('td')\n",
    "        \n",
    "        # Get the text content of each column and strip any extra whitespace\n",
    "        columns = [col.get_text(strip=True) for col in columns]\n",
    "\n",
    "        # add this info to the NIC_df where only have three columns [company\tNIC-URL\tcohort]\n",
    "        if len(columns) >= 2:\n",
    "            NIC_df.loc[i, columns[0]] = columns[1]"
   ]
  },
  {
   "cell_type": "code",
   "execution_count": 13,
   "id": "edcc12a4",
   "metadata": {
    "execution": {
     "iopub.execute_input": "2024-06-25T21:00:43.757394Z",
     "iopub.status.busy": "2024-06-25T21:00:43.756201Z",
     "iopub.status.idle": "2024-06-25T21:00:43.765533Z",
     "shell.execute_reply": "2024-06-25T21:00:43.764149Z"
    },
    "papermill": {
     "duration": 0.031074,
     "end_time": "2024-06-25T21:00:43.768233",
     "exception": false,
     "start_time": "2024-06-25T21:00:43.737159",
     "status": "completed"
    },
    "tags": []
   },
   "outputs": [
    {
     "data": {
      "text/plain": [
       "Index(['NIC-URL', 'cohort', 'STARTUP', 'STARTUP STAGE', 'DOMAIN', 'WEBSITE',\n",
       "       'FOUNDER', 'CONTACT', 'EMAIL'],\n",
       "      dtype='object')"
      ]
     },
     "execution_count": 13,
     "metadata": {},
     "output_type": "execute_result"
    }
   ],
   "source": [
    "NIC_df.columns"
   ]
  },
  {
   "cell_type": "code",
   "execution_count": 14,
   "id": "3b19fd5b",
   "metadata": {
    "execution": {
     "iopub.execute_input": "2024-06-25T21:00:43.807250Z",
     "iopub.status.busy": "2024-06-25T21:00:43.806828Z",
     "iopub.status.idle": "2024-06-25T21:00:43.816091Z",
     "shell.execute_reply": "2024-06-25T21:00:43.814588Z"
    },
    "papermill": {
     "duration": 0.032378,
     "end_time": "2024-06-25T21:00:43.819153",
     "exception": false,
     "start_time": "2024-06-25T21:00:43.786775",
     "status": "completed"
    },
    "tags": []
   },
   "outputs": [],
   "source": [
    "# Replace empty strings ('') and en dash ('–') with pd.NA (missing values)\n",
    "NIC_df = NIC_df.replace('', pd.NA).replace('–', pd.NA)"
   ]
  },
  {
   "cell_type": "code",
   "execution_count": 15,
   "id": "105c9f2a",
   "metadata": {
    "execution": {
     "iopub.execute_input": "2024-06-25T21:00:43.856603Z",
     "iopub.status.busy": "2024-06-25T21:00:43.855533Z",
     "iopub.status.idle": "2024-06-25T21:00:43.865073Z",
     "shell.execute_reply": "2024-06-25T21:00:43.863330Z"
    },
    "papermill": {
     "duration": 0.031877,
     "end_time": "2024-06-25T21:00:43.867849",
     "exception": false,
     "start_time": "2024-06-25T21:00:43.835972",
     "status": "completed"
    },
    "tags": []
   },
   "outputs": [],
   "source": [
    "# Remove all spaces from strings in the 'CONTACT' column\n",
    "NIC_df['CONTACT'] = NIC_df['CONTACT'].apply(\n",
    "    lambda x: x.replace(' ', '') if isinstance(x, str) else x)\n",
    "\n",
    "# Replace the leading '0' with '+92' for strings in the 'CONTACT' column\n",
    "NIC_df['CONTACT'] = NIC_df['CONTACT'].apply(\n",
    "    lambda x: x.replace('0'+x[1:], '+92'+x[1:]) if (isinstance(x, str) and x[:1] == '0') else x)\n"
   ]
  },
  {
   "cell_type": "code",
   "execution_count": 16,
   "id": "e4a15c6b",
   "metadata": {
    "execution": {
     "iopub.execute_input": "2024-06-25T21:00:43.904803Z",
     "iopub.status.busy": "2024-06-25T21:00:43.904418Z",
     "iopub.status.idle": "2024-06-25T21:00:43.923393Z",
     "shell.execute_reply": "2024-06-25T21:00:43.921758Z"
    },
    "papermill": {
     "duration": 0.041049,
     "end_time": "2024-06-25T21:00:43.926389",
     "exception": false,
     "start_time": "2024-06-25T21:00:43.885340",
     "status": "completed"
    },
    "tags": []
   },
   "outputs": [
    {
     "data": {
      "text/html": [
       "<div>\n",
       "<style scoped>\n",
       "    .dataframe tbody tr th:only-of-type {\n",
       "        vertical-align: middle;\n",
       "    }\n",
       "\n",
       "    .dataframe tbody tr th {\n",
       "        vertical-align: top;\n",
       "    }\n",
       "\n",
       "    .dataframe thead th {\n",
       "        text-align: right;\n",
       "    }\n",
       "</style>\n",
       "<table border=\"1\" class=\"dataframe\">\n",
       "  <thead>\n",
       "    <tr style=\"text-align: right;\">\n",
       "      <th></th>\n",
       "      <th>NIC-URL</th>\n",
       "      <th>cohort</th>\n",
       "      <th>STARTUP</th>\n",
       "      <th>STARTUP STAGE</th>\n",
       "      <th>DOMAIN</th>\n",
       "      <th>WEBSITE</th>\n",
       "      <th>FOUNDER</th>\n",
       "      <th>CONTACT</th>\n",
       "      <th>EMAIL</th>\n",
       "    </tr>\n",
       "  </thead>\n",
       "  <tbody>\n",
       "    <tr>\n",
       "      <th>0</th>\n",
       "      <td>https://nichyderabad.com/about/cohort-1/emplai/</td>\n",
       "      <td>1</td>\n",
       "      <td>EmplAi</td>\n",
       "      <td>Accelerate</td>\n",
       "      <td>HR, Attendance</td>\n",
       "      <td>http://www.emplai.ai/</td>\n",
       "      <td>Aftab Ahmed Saraz (CEO &amp; Founder)</td>\n",
       "      <td>&lt;NA&gt;</td>\n",
       "      <td>&lt;NA&gt;</td>\n",
       "    </tr>\n",
       "    <tr>\n",
       "      <th>1</th>\n",
       "      <td>https://nichyderabad.com/about/cohort-1/agridu...</td>\n",
       "      <td>1</td>\n",
       "      <td>AgriDunya Technologies</td>\n",
       "      <td>Accelerate</td>\n",
       "      <td>AgTech</td>\n",
       "      <td>https://www.agridunya.com/</td>\n",
       "      <td>Rahul Dembani</td>\n",
       "      <td>+923300792000</td>\n",
       "      <td>support@agridunya.com</td>\n",
       "    </tr>\n",
       "    <tr>\n",
       "      <th>2</th>\n",
       "      <td>https://nichyderabad.com/about/cohort-1/seevit...</td>\n",
       "      <td>1</td>\n",
       "      <td>SeeVitals</td>\n",
       "      <td>Accelerate</td>\n",
       "      <td>Health Tech</td>\n",
       "      <td>http://www.seevitals.com/</td>\n",
       "      <td>Dr. Nimra Qureshi</td>\n",
       "      <td>+923451591251</td>\n",
       "      <td>info@SeeVitals.com</td>\n",
       "    </tr>\n",
       "    <tr>\n",
       "      <th>3</th>\n",
       "      <td>https://nichyderabad.com/about/cohort-1/monitr/</td>\n",
       "      <td>1</td>\n",
       "      <td>Monitr</td>\n",
       "      <td>Accelerate</td>\n",
       "      <td>Ed-Tech, SAAS</td>\n",
       "      <td>www.monitr.site</td>\n",
       "      <td>Daeyan Hafeez Siddiqui</td>\n",
       "      <td>+923453531573</td>\n",
       "      <td>daeyansidi826@gmail.com</td>\n",
       "    </tr>\n",
       "    <tr>\n",
       "      <th>4</th>\n",
       "      <td>https://nichyderabad.com/about/cohort-1/upni-m...</td>\n",
       "      <td>1</td>\n",
       "      <td>Upni Market</td>\n",
       "      <td>Accelerate</td>\n",
       "      <td>E-commerce</td>\n",
       "      <td>www.Upnimarket.com</td>\n",
       "      <td>Ahsan Zahid</td>\n",
       "      <td>+923220232991</td>\n",
       "      <td>info@upnimarket.com</td>\n",
       "    </tr>\n",
       "  </tbody>\n",
       "</table>\n",
       "</div>"
      ],
      "text/plain": [
       "                                             NIC-URL  cohort  \\\n",
       "0    https://nichyderabad.com/about/cohort-1/emplai/       1   \n",
       "1  https://nichyderabad.com/about/cohort-1/agridu...       1   \n",
       "2  https://nichyderabad.com/about/cohort-1/seevit...       1   \n",
       "3    https://nichyderabad.com/about/cohort-1/monitr/       1   \n",
       "4  https://nichyderabad.com/about/cohort-1/upni-m...       1   \n",
       "\n",
       "                  STARTUP STARTUP STAGE          DOMAIN  \\\n",
       "0                  EmplAi    Accelerate  HR, Attendance   \n",
       "1  AgriDunya Technologies    Accelerate          AgTech   \n",
       "2               SeeVitals    Accelerate     Health Tech   \n",
       "3                  Monitr    Accelerate   Ed-Tech, SAAS   \n",
       "4             Upni Market    Accelerate      E-commerce   \n",
       "\n",
       "                      WEBSITE                            FOUNDER  \\\n",
       "0       http://www.emplai.ai/  Aftab Ahmed Saraz (CEO & Founder)   \n",
       "1  https://www.agridunya.com/                      Rahul Dembani   \n",
       "2   http://www.seevitals.com/                  Dr. Nimra Qureshi   \n",
       "3             www.monitr.site             Daeyan Hafeez Siddiqui   \n",
       "4          www.Upnimarket.com                        Ahsan Zahid   \n",
       "\n",
       "         CONTACT                    EMAIL  \n",
       "0           <NA>                     <NA>  \n",
       "1  +923300792000    support@agridunya.com  \n",
       "2  +923451591251       info@SeeVitals.com  \n",
       "3  +923453531573  daeyansidi826@gmail.com  \n",
       "4  +923220232991      info@upnimarket.com  "
      ]
     },
     "execution_count": 16,
     "metadata": {},
     "output_type": "execute_result"
    }
   ],
   "source": [
    "NIC_df.head()"
   ]
  },
  {
   "cell_type": "markdown",
   "id": "30f9258b",
   "metadata": {
    "papermill": {
     "duration": 0.017652,
     "end_time": "2024-06-25T21:00:43.960687",
     "exception": false,
     "start_time": "2024-06-25T21:00:43.943035",
     "status": "completed"
    },
    "tags": []
   },
   "source": [
    "## 4. Saving the Data\n",
    "Finally, we save the collected and processed data to a CSV file for future analysis."
   ]
  },
  {
   "cell_type": "code",
   "execution_count": 17,
   "id": "ecdac049",
   "metadata": {
    "execution": {
     "iopub.execute_input": "2024-06-25T21:00:43.997765Z",
     "iopub.status.busy": "2024-06-25T21:00:43.997360Z",
     "iopub.status.idle": "2024-06-25T21:00:44.011051Z",
     "shell.execute_reply": "2024-06-25T21:00:44.009693Z"
    },
    "papermill": {
     "duration": 0.0352,
     "end_time": "2024-06-25T21:00:44.013952",
     "exception": false,
     "start_time": "2024-06-25T21:00:43.978752",
     "status": "completed"
    },
    "tags": []
   },
   "outputs": [],
   "source": [
    "NIC_df.to_csv('NIC-hydrabad_startups-data.csv')"
   ]
  },
  {
   "cell_type": "markdown",
   "id": "e7be3888",
   "metadata": {
    "papermill": {
     "duration": 0.016238,
     "end_time": "2024-06-25T21:00:44.046639",
     "exception": false,
     "start_time": "2024-06-25T21:00:44.030401",
     "status": "completed"
    },
    "tags": []
   },
   "source": [
    "## Accessing the Data\n",
    "\n",
    "The dataset generated from this notebook can be accessed through GitHub: [NIC Startups Data](https://github.com/codewithawr/NIC-hydrabad-Startups-Data)"
   ]
  },
  {
   "cell_type": "markdown",
   "id": "da717b90",
   "metadata": {
    "papermill": {
     "duration": 0.016736,
     "end_time": "2024-06-25T21:00:44.079840",
     "exception": false,
     "start_time": "2024-06-25T21:00:44.063104",
     "status": "completed"
    },
    "tags": []
   },
   "source": [
    "## Appendix\n",
    "### Additional Information\n",
    "- Source: National Incubation Center (NIC) Hyderabad website\n",
    "- Date of Data Collection: 24/06/2024\n",
    "- Acknowledgments: Thanks to NIC Hyderabad for providing access to the startup information"
   ]
  }
 ],
 "metadata": {
  "kaggle": {
   "accelerator": "none",
   "dataSources": [],
   "dockerImageVersionId": 30732,
   "isGpuEnabled": false,
   "isInternetEnabled": true,
   "language": "python",
   "sourceType": "notebook"
  },
  "kernelspec": {
   "display_name": "Python 3",
   "language": "python",
   "name": "python3"
  },
  "language_info": {
   "codemirror_mode": {
    "name": "ipython",
    "version": 3
   },
   "file_extension": ".py",
   "mimetype": "text/x-python",
   "name": "python",
   "nbconvert_exporter": "python",
   "pygments_lexer": "ipython3",
   "version": "3.10.13"
  },
  "papermill": {
   "default_parameters": {},
   "duration": 32.333201,
   "end_time": "2024-06-25T21:00:44.721230",
   "environment_variables": {},
   "exception": null,
   "input_path": "__notebook__.ipynb",
   "output_path": "__notebook__.ipynb",
   "parameters": {},
   "start_time": "2024-06-25T21:00:12.388029",
   "version": "2.5.0"
  }
 },
 "nbformat": 4,
 "nbformat_minor": 5
}
