{
 "cells": [
  {
   "cell_type": "markdown",
   "id": "3fe53ff0",
   "metadata": {
    "papermill": {
     "duration": 0.00649,
     "end_time": "2024-06-25T20:05:15.958478",
     "exception": false,
     "start_time": "2024-06-25T20:05:15.951988",
     "status": "completed"
    },
    "tags": []
   },
   "source": [
    "# Scraping Startup Data from NIC (National Incubation Center) Hyderabad Sindh, Pakistan\n",
    "\n",
    "## Introduction\n",
    "\n",
    "The National Incubation Center (NIC) Hyderabad is a hub for fostering innovation and entrepreneurship in Sindh, Pakistan. This notebook aims to scrape and compile data on startups from the NIC Hyderabad website. The objective is to gather information on the startups, including their names, descriptions, and links to their detailed profiles, which can be used for further analysis and research.\n",
    "\n",
    "## 1. Setup and Libraries\n",
    "\n",
    "In this section, we will import the necessary libraries required for web scraping and data processing."
   ]
  },
  {
   "cell_type": "code",
   "execution_count": 1,
   "id": "2d3123d0",
   "metadata": {
    "_cell_guid": "b1076dfc-b9ad-4769-8c92-a6c4dae69d19",
    "_uuid": "8f2839f25d086af736a60e9eeb907d3b93b6e0e5",
    "execution": {
     "iopub.execute_input": "2024-06-25T20:05:15.971920Z",
     "iopub.status.busy": "2024-06-25T20:05:15.971518Z",
     "iopub.status.idle": "2024-06-25T20:05:17.168620Z",
     "shell.execute_reply": "2024-06-25T20:05:17.167501Z"
    },
    "papermill": {
     "duration": 1.206665,
     "end_time": "2024-06-25T20:05:17.171241",
     "exception": false,
     "start_time": "2024-06-25T20:05:15.964576",
     "status": "completed"
    },
    "tags": []
   },
   "outputs": [],
   "source": [
    "import numpy as np # linear algebra\n",
    "import pandas as pd # data processing, CSV file I/O (e.g. pd.read_csv)\n",
    "import requests\n",
    "from bs4 import BeautifulSoup"
   ]
  },
  {
   "cell_type": "markdown",
   "id": "78eecff7",
   "metadata": {
    "papermill": {
     "duration": 0.005242,
     "end_time": "2024-06-25T20:05:17.182174",
     "exception": false,
     "start_time": "2024-06-25T20:05:17.176932",
     "status": "completed"
    },
    "tags": []
   },
   "source": [
    "## 3. Web Scraping\n",
    "### Base URL and Headers\n",
    "We define the base URL for NIC Hyderabad cohorts and set headers to mimic a real browser."
   ]
  },
  {
   "cell_type": "code",
   "execution_count": 2,
   "id": "f72d8380",
   "metadata": {
    "execution": {
     "iopub.execute_input": "2024-06-25T20:05:17.194875Z",
     "iopub.status.busy": "2024-06-25T20:05:17.194365Z",
     "iopub.status.idle": "2024-06-25T20:05:17.199418Z",
     "shell.execute_reply": "2024-06-25T20:05:17.198461Z"
    },
    "papermill": {
     "duration": 0.013927,
     "end_time": "2024-06-25T20:05:17.201564",
     "exception": false,
     "start_time": "2024-06-25T20:05:17.187637",
     "status": "completed"
    },
    "tags": []
   },
   "outputs": [],
   "source": [
    "# Base URL adding 1, 2, 3, end of will make the change the round/cohort\n",
    "url = 'https://nichyderabad.com/about/cohort-'\n",
    "\n",
    "# Set headers to mimic a real browser\n",
    "headers = {'User-Agent': 'Mozilla/5.0 (Windows NT 10.0; Win64; x64) AppleWebKit/537.36 (KHTML, like Gecko) Chrome/91.0.4472.124 Safari/537.36'}"
   ]
  },
  {
   "cell_type": "markdown",
   "id": "ed6d2066",
   "metadata": {
    "papermill": {
     "duration": 0.005342,
     "end_time": "2024-06-25T20:05:17.212867",
     "exception": false,
     "start_time": "2024-06-25T20:05:17.207525",
     "status": "completed"
    },
    "tags": []
   },
   "source": [
    "## 3. Fetching Data from NIC Hyderabad\n",
    "We fetch the web pages for each cohort and parse the HTML content."
   ]
  },
  {
   "cell_type": "code",
   "execution_count": 3,
   "id": "7d45c9f4",
   "metadata": {
    "execution": {
     "iopub.execute_input": "2024-06-25T20:05:17.225521Z",
     "iopub.status.busy": "2024-06-25T20:05:17.225119Z",
     "iopub.status.idle": "2024-06-25T20:05:21.152190Z",
     "shell.execute_reply": "2024-06-25T20:05:21.151091Z"
    },
    "papermill": {
     "duration": 3.936445,
     "end_time": "2024-06-25T20:05:21.154911",
     "exception": false,
     "start_time": "2024-06-25T20:05:17.218466",
     "status": "completed"
    },
    "tags": []
   },
   "outputs": [],
   "source": [
    "# to temprary save all the responces\n",
    "responses = {'cohorts':[], 'sope':[]}\n",
    "\n",
    "# itrating ovwer all the cohorts page\n",
    "for i in range(1, 5): # till this date 24/06/2024 we only have four cohorts\n",
    "  # fatching the page of the iterate index\n",
    "  response= requests.get(url+f'{i}', headers=headers)\n",
    "  # only if the request is seccefull\n",
    "  if response.status_code == 200:\n",
    "    # save the cohort to the responses\n",
    "    responses['cohorts'].append(i)\n",
    "    # turning the responce to sope\n",
    "    soup = BeautifulSoup(response.content, 'html.parser')\n",
    "    # saving that sope in responses\n",
    "    responses['sope'].append(soup)\n",
    "  else: print(response.status_code, 'for searching cohort', i)"
   ]
  },
  {
   "cell_type": "markdown",
   "id": "68b5f86a",
   "metadata": {
    "papermill": {
     "duration": 0.005817,
     "end_time": "2024-06-25T20:05:21.166537",
     "exception": false,
     "start_time": "2024-06-25T20:05:21.160720",
     "status": "completed"
    },
    "tags": []
   },
   "source": [
    "### Extracting Data for Each Cohort\n",
    "We extract the relevant data (company names, URL of the each startup's profile page, and cohort session) from each cohort's page.\n",
    "#### Cohort 1"
   ]
  },
  {
   "cell_type": "code",
   "execution_count": 4,
   "id": "b4f4c925",
   "metadata": {
    "execution": {
     "iopub.execute_input": "2024-06-25T20:05:21.179053Z",
     "iopub.status.busy": "2024-06-25T20:05:21.178680Z",
     "iopub.status.idle": "2024-06-25T20:05:21.183800Z",
     "shell.execute_reply": "2024-06-25T20:05:21.182611Z"
    },
    "papermill": {
     "duration": 0.014249,
     "end_time": "2024-06-25T20:05:21.186228",
     "exception": false,
     "start_time": "2024-06-25T20:05:21.171979",
     "status": "completed"
    },
    "tags": []
   },
   "outputs": [],
   "source": [
    "# for cohort 1\n",
    "soup_cohort1 = responses['sope'][0]"
   ]
  },
  {
   "cell_type": "code",
   "execution_count": 5,
   "id": "c6ca07ee",
   "metadata": {
    "execution": {
     "iopub.execute_input": "2024-06-25T20:05:21.198930Z",
     "iopub.status.busy": "2024-06-25T20:05:21.198561Z",
     "iopub.status.idle": "2024-06-25T20:05:21.208884Z",
     "shell.execute_reply": "2024-06-25T20:05:21.207616Z"
    },
    "papermill": {
     "duration": 0.019465,
     "end_time": "2024-06-25T20:05:21.211336",
     "exception": false,
     "start_time": "2024-06-25T20:05:21.191871",
     "status": "completed"
    },
    "tags": []
   },
   "outputs": [
    {
     "name": "stdout",
     "output_type": "stream",
     "text": [
      "Total number of retrieve compony in cohort-1 20\n"
     ]
    }
   ],
   "source": [
    "# selecting all \"div\" eiliments with class content-container\n",
    "content_container = soup_cohort1.find_all('div', class_='content-container')\n",
    "print('Total number of retrieve compony in cohort-1', len(content_container))"
   ]
  },
  {
   "cell_type": "code",
   "execution_count": 6,
   "id": "bf196f07",
   "metadata": {
    "execution": {
     "iopub.execute_input": "2024-06-25T20:05:21.224872Z",
     "iopub.status.busy": "2024-06-25T20:05:21.223850Z",
     "iopub.status.idle": "2024-06-25T20:05:21.231807Z",
     "shell.execute_reply": "2024-06-25T20:05:21.230682Z"
    },
    "papermill": {
     "duration": 0.01693,
     "end_time": "2024-06-25T20:05:21.233889",
     "exception": false,
     "start_time": "2024-06-25T20:05:21.216959",
     "status": "completed"
    },
    "tags": []
   },
   "outputs": [],
   "source": [
    "NIC = {'company':[], 'NIC-URL':[], 'cohort':[]}\n",
    "\n",
    "for i in content_container:\n",
    "  if i.find('p').find_all('a') != []:\n",
    "    company_url=i.find('p').find_all('a')[0].get('href')\n",
    "    NIC[\"company\"].append(company_url.split('/')[-2])\n",
    "    NIC[\"NIC-URL\"].append(company_url)\n",
    "\n",
    "# adding 1 to each cohort equel to the number of the other observation\n",
    "NIC[\"cohort\"]=[1]*len(NIC[\"company\"])"
   ]
  },
  {
   "cell_type": "code",
   "execution_count": 7,
   "id": "70123249",
   "metadata": {
    "execution": {
     "iopub.execute_input": "2024-06-25T20:05:21.247174Z",
     "iopub.status.busy": "2024-06-25T20:05:21.246279Z",
     "iopub.status.idle": "2024-06-25T20:05:21.273110Z",
     "shell.execute_reply": "2024-06-25T20:05:21.272047Z"
    },
    "papermill": {
     "duration": 0.036014,
     "end_time": "2024-06-25T20:05:21.275555",
     "exception": false,
     "start_time": "2024-06-25T20:05:21.239541",
     "status": "completed"
    },
    "tags": []
   },
   "outputs": [
    {
     "data": {
      "text/html": [
       "<div>\n",
       "<style scoped>\n",
       "    .dataframe tbody tr th:only-of-type {\n",
       "        vertical-align: middle;\n",
       "    }\n",
       "\n",
       "    .dataframe tbody tr th {\n",
       "        vertical-align: top;\n",
       "    }\n",
       "\n",
       "    .dataframe thead th {\n",
       "        text-align: right;\n",
       "    }\n",
       "</style>\n",
       "<table border=\"1\" class=\"dataframe\">\n",
       "  <thead>\n",
       "    <tr style=\"text-align: right;\">\n",
       "      <th></th>\n",
       "      <th>company</th>\n",
       "      <th>NIC-URL</th>\n",
       "      <th>cohort</th>\n",
       "    </tr>\n",
       "  </thead>\n",
       "  <tbody>\n",
       "    <tr>\n",
       "      <th>0</th>\n",
       "      <td>emplai</td>\n",
       "      <td>https://nichyderabad.com/about/cohort-1/emplai/</td>\n",
       "      <td>1</td>\n",
       "    </tr>\n",
       "    <tr>\n",
       "      <th>1</th>\n",
       "      <td>agridunya-technologies</td>\n",
       "      <td>https://nichyderabad.com/about/cohort-1/agridu...</td>\n",
       "      <td>1</td>\n",
       "    </tr>\n",
       "    <tr>\n",
       "      <th>2</th>\n",
       "      <td>seevitals-solutions</td>\n",
       "      <td>https://nichyderabad.com/about/cohort-1/seevit...</td>\n",
       "      <td>1</td>\n",
       "    </tr>\n",
       "    <tr>\n",
       "      <th>3</th>\n",
       "      <td>monitr</td>\n",
       "      <td>https://nichyderabad.com/about/cohort-1/monitr/</td>\n",
       "      <td>1</td>\n",
       "    </tr>\n",
       "    <tr>\n",
       "      <th>4</th>\n",
       "      <td>upni-market</td>\n",
       "      <td>https://nichyderabad.com/about/cohort-1/upni-m...</td>\n",
       "      <td>1</td>\n",
       "    </tr>\n",
       "  </tbody>\n",
       "</table>\n",
       "</div>"
      ],
      "text/plain": [
       "                  company                                            NIC-URL  \\\n",
       "0                  emplai    https://nichyderabad.com/about/cohort-1/emplai/   \n",
       "1  agridunya-technologies  https://nichyderabad.com/about/cohort-1/agridu...   \n",
       "2     seevitals-solutions  https://nichyderabad.com/about/cohort-1/seevit...   \n",
       "3                  monitr    https://nichyderabad.com/about/cohort-1/monitr/   \n",
       "4             upni-market  https://nichyderabad.com/about/cohort-1/upni-m...   \n",
       "\n",
       "   cohort  \n",
       "0       1  \n",
       "1       1  \n",
       "2       1  \n",
       "3       1  \n",
       "4       1  "
      ]
     },
     "execution_count": 7,
     "metadata": {},
     "output_type": "execute_result"
    }
   ],
   "source": [
    "NIC_df = pd.DataFrame(NIC)\n",
    "NIC_df.head()"
   ]
  },
  {
   "cell_type": "markdown",
   "id": "c8d55b90",
   "metadata": {
    "papermill": {
     "duration": 0.005528,
     "end_time": "2024-06-25T20:05:21.287017",
     "exception": false,
     "start_time": "2024-06-25T20:05:21.281489",
     "status": "completed"
    },
    "tags": []
   },
   "source": [
    "#### Fetching the all the other cohorts"
   ]
  },
  {
   "cell_type": "code",
   "execution_count": 8,
   "id": "afd3c3e6",
   "metadata": {
    "execution": {
     "iopub.execute_input": "2024-06-25T20:05:21.300890Z",
     "iopub.status.busy": "2024-06-25T20:05:21.299914Z",
     "iopub.status.idle": "2024-06-25T20:05:21.379407Z",
     "shell.execute_reply": "2024-06-25T20:05:21.378057Z"
    },
    "papermill": {
     "duration": 0.089597,
     "end_time": "2024-06-25T20:05:21.382399",
     "exception": false,
     "start_time": "2024-06-25T20:05:21.292802",
     "status": "completed"
    },
    "tags": []
   },
   "outputs": [
    {
     "name": "stdout",
     "output_type": "stream",
     "text": [
      "Total number of retrieve compony in cohort-2 are 28\n",
      "Total number of retrieve compony in cohort-3 are 20\n",
      "Total number of retrieve compony in cohort-4 are 14\n"
     ]
    }
   ],
   "source": [
    "total_page = len(responses['sope'])\n",
    "# cohort 2 and on\n",
    "for i in range(1, total_page):\n",
    "  sope_cohort = responses['sope'][i]\n",
    "  # find all \"a\" tages with heading-link class ans store in list\n",
    "  a_tags = sope_cohort.find_all('a', class_='heading-link')\n",
    "  print(f'Total number of retrieve compony in cohort-{i+1} are', len(a_tags))\n",
    "  for j in a_tags:\n",
    "    # add the company, url, and cohort 2 to the NIC_df\n",
    "    NIC_df.loc[len(NIC_df)] = [j.get('href').split('/')[-2], j.get('href'), 2]"
   ]
  },
  {
   "cell_type": "code",
   "execution_count": 9,
   "id": "3dfcfa89",
   "metadata": {
    "execution": {
     "iopub.execute_input": "2024-06-25T20:05:21.396392Z",
     "iopub.status.busy": "2024-06-25T20:05:21.396032Z",
     "iopub.status.idle": "2024-06-25T20:05:21.408714Z",
     "shell.execute_reply": "2024-06-25T20:05:21.407538Z"
    },
    "papermill": {
     "duration": 0.0225,
     "end_time": "2024-06-25T20:05:21.411100",
     "exception": false,
     "start_time": "2024-06-25T20:05:21.388600",
     "status": "completed"
    },
    "tags": []
   },
   "outputs": [],
   "source": [
    "NIC_df.drop_duplicates(subset='NIC-URL', inplace=True)"
   ]
  },
  {
   "cell_type": "code",
   "execution_count": 10,
   "id": "775ebec4",
   "metadata": {
    "execution": {
     "iopub.execute_input": "2024-06-25T20:05:21.425334Z",
     "iopub.status.busy": "2024-06-25T20:05:21.424911Z",
     "iopub.status.idle": "2024-06-25T20:05:21.435212Z",
     "shell.execute_reply": "2024-06-25T20:05:21.434008Z"
    },
    "papermill": {
     "duration": 0.0204,
     "end_time": "2024-06-25T20:05:21.437713",
     "exception": false,
     "start_time": "2024-06-25T20:05:21.417313",
     "status": "completed"
    },
    "tags": []
   },
   "outputs": [
    {
     "data": {
      "text/html": [
       "<div>\n",
       "<style scoped>\n",
       "    .dataframe tbody tr th:only-of-type {\n",
       "        vertical-align: middle;\n",
       "    }\n",
       "\n",
       "    .dataframe tbody tr th {\n",
       "        vertical-align: top;\n",
       "    }\n",
       "\n",
       "    .dataframe thead th {\n",
       "        text-align: right;\n",
       "    }\n",
       "</style>\n",
       "<table border=\"1\" class=\"dataframe\">\n",
       "  <thead>\n",
       "    <tr style=\"text-align: right;\">\n",
       "      <th></th>\n",
       "      <th>company</th>\n",
       "      <th>NIC-URL</th>\n",
       "      <th>cohort</th>\n",
       "    </tr>\n",
       "  </thead>\n",
       "  <tbody>\n",
       "  </tbody>\n",
       "</table>\n",
       "</div>"
      ],
      "text/plain": [
       "Empty DataFrame\n",
       "Columns: [company, NIC-URL, cohort]\n",
       "Index: []"
      ]
     },
     "execution_count": 10,
     "metadata": {},
     "output_type": "execute_result"
    }
   ],
   "source": [
    "NIC_df[NIC_df['NIC-URL'].duplicated(keep=False)]"
   ]
  },
  {
   "cell_type": "markdown",
   "id": "e8a62f8b",
   "metadata": {
    "papermill": {
     "duration": 0.005788,
     "end_time": "2024-06-25T20:05:21.449720",
     "exception": false,
     "start_time": "2024-06-25T20:05:21.443932",
     "status": "completed"
    },
    "tags": []
   },
   "source": [
    "*Note: Now that we have the like for each page of the startup on NIC website, we will start to fatch the data from thos page*"
   ]
  },
  {
   "cell_type": "code",
   "execution_count": 11,
   "id": "88ce4975",
   "metadata": {
    "execution": {
     "iopub.execute_input": "2024-06-25T20:05:21.464393Z",
     "iopub.status.busy": "2024-06-25T20:05:21.463465Z",
     "iopub.status.idle": "2024-06-25T20:05:21.469715Z",
     "shell.execute_reply": "2024-06-25T20:05:21.468649Z"
    },
    "papermill": {
     "duration": 0.015678,
     "end_time": "2024-06-25T20:05:21.471989",
     "exception": false,
     "start_time": "2024-06-25T20:05:21.456311",
     "status": "completed"
    },
    "tags": []
   },
   "outputs": [],
   "source": [
    "def get_soup(link_:str) -> BeautifulSoup:\n",
    "    response = requests.get(link_, headers=headers)\n",
    "    if response.status_code == 200:\n",
    "        soup = BeautifulSoup(response.content, 'html.parser')\n",
    "        return soup\n",
    "    else:\n",
    "        print(response.status_code, 'for', link_)"
   ]
  },
  {
   "cell_type": "code",
   "execution_count": 12,
   "id": "137b1c1f",
   "metadata": {
    "execution": {
     "iopub.execute_input": "2024-06-25T20:05:21.486546Z",
     "iopub.status.busy": "2024-06-25T20:05:21.485356Z",
     "iopub.status.idle": "2024-06-25T20:06:21.542695Z",
     "shell.execute_reply": "2024-06-25T20:06:21.541417Z"
    },
    "papermill": {
     "duration": 60.067228,
     "end_time": "2024-06-25T20:06:21.545371",
     "exception": false,
     "start_time": "2024-06-25T20:05:21.478143",
     "status": "completed"
    },
    "tags": []
   },
   "outputs": [
    {
     "name": "stdout",
     "output_type": "stream",
     "text": [
      "0 https://nichyderabad.com/about/cohort-1/emplai/\n",
      "1 https://nichyderabad.com/about/cohort-1/agridunya-technologies/\n",
      "2 https://nichyderabad.com/about/cohort-1/seevitals-solutions/\n",
      "3 https://nichyderabad.com/about/cohort-1/monitr/\n",
      "4 https://nichyderabad.com/about/cohort-1/upni-market/\n",
      "5 https://nichyderabad.com/about/cohort-1/techfuturic/\n",
      "6 https://nichyderabad.com/about/cohort-1/pak-bioenergy/\n",
      "7 https://nichyderabad.com/about/cohort-1/quality-butler-services/\n",
      "8 https://nichyderabad.com/about/cohort-1/rentary/\n",
      "9 https://nichyderabad.com/about/cohort-1/blockshippro/\n",
      "10 https://nichyderabad.com/about/cohort-1/salon-tracer/\n",
      "11 https://nichyderabad.com/about/cohort-1/nanotechx/\n",
      "12 https://nichyderabad.com/about/cohort-1/dbargain/\n",
      "13 https://nichyderabad.com/about/cohort-1/sahulat/\n",
      "14 https://nichyderabad.com/about/cohort-1/gems-rock-bid/\n",
      "15 https://nichyderabad.com/about/cohort-1/verbue/\n",
      "16 https://nichyderabad.com/about/cohort-1/mixeal/\n",
      "17 https://nichyderabad.com/about/cohort-1/alt-ed/\n",
      "18 https://nichyderabad.com/about/cohort-2/bgrow-tech/\n",
      "19 https://nichyderabad.com/about/cohort-2/evolvve/\n",
      "20 https://nichyderabad.com/about/cohort-2/indraaj/\n",
      "21 https://nichyderabad.com/about/cohort-2/navi-space/\n",
      "22 https://nichyderabad.com/about/cohort-2/opd/\n",
      "23 https://nichyderabad.com/?page_id=9974&preview=true\n",
      "24 https://nichyderabad.com/about/cohort-2/khudi-talks/\n",
      "25 https://nichyderabad.com/about/cohort-2/bt-studios/\n",
      "26 https://nichyderabad.com/about/cohort-2/ab-textiles/\n",
      "27 https://nichyderabad.com/about/cohort-2/digimart/\n",
      "28 https://nichyderabad.com/about/cohort-2/intratrace/\n",
      "29 https://nichyderabad.com/about/cohort-2/nettax/\n",
      "30 https://nichyderabad.com/?page_id=9957&preview=true\n",
      "31 https://nichyderabad.com/?page_id=9976&preview=true\n",
      "32 https://nichyderabad.com/about/cohort-2/digital-cartel/\n",
      "33 https://nichyderabad.com/about/cohort-2/aizaz-clothing/\n",
      "34 https://nichyderabad.com/about/cohort-2/gbm-enterprises/\n",
      "35 https://nichyderabad.com/?page_id=9913&preview=true\n",
      "36 https://nichyderabad.com/about/cohort-2/rentpayy/\n",
      "37 https://nichyderabad.com/about/cohort-2/spotout/\n",
      "38 https://nichyderabad.com/about/cohort-2/circular-ride/\n",
      "39 https://nichyderabad.com/about/cohort-2/furnisho/\n",
      "40 https://nichyderabad.com/about/cohort-2/her-sahulat/\n",
      "41 https://nichyderabad.com/about/cohort-2/greenyields/\n",
      "42 https://nichyderabad.com/about/cohort-2/m-h-panhwer/\n",
      "43 https://nichyderabad.com/about/cohort-2/ns-highway/\n",
      "44 https://nichyderabad.com/about/cohort-2/stitch-and-sew/\n",
      "45 https://nichyderabad.com/about/cohort-2/easy-bazaar/\n",
      "46 https://nichyderabad.com/about/cohort-3/brisk-predict/\n",
      "47 https://nichyderabad.com/about/cohort-3/decentrai/\n",
      "48 https://nichyderabad.com/about/cohort-3/medsocial/\n",
      "49 https://nichyderabad.com/about/cohort-3/phonedost/\n",
      "50 https://nichyderabad.com/about/cohort-3/zeal-arts/\n",
      "51 https://nichyderabad.com/about/cohort-3/beauty-pro/\n",
      "52 https://nichyderabad.com/about/cohort-3/foodyhub/\n",
      "54 https://nichyderabad.com/about/cohort-3/sub-bachao/\n",
      "55 https://nichyderabad.com/about/cohort-3/am-solar/\n",
      "56 https://nichyderabad.com/about/cohort-3/crystal-essence/\n",
      "57 https://nichyderabad.com/about/cohort-3/lawfied/\n",
      "58 https://nichyderabad.com/about/cohort-3/mukand-herbs/\n",
      "59 https://nichyderabad.com/about/cohort-3/sobdar-it-solution/\n",
      "60 https://nichyderabad.com/about/cohort-3/cardlytics/\n",
      "61 https://nichyderabad.com/about/cohort-3/civilai/\n",
      "62 https://nichyderabad.com/about/cohort-3/mauvzhale/\n",
      "63 https://nichyderabad.com/about/cohort-3/peekaboo-child-learning-sanctuary/\n",
      "64 https://nichyderabad.com/about/cohort-3/umme-hamood/\n",
      "65 https://nichyderabad.com/about/cohort-3/gamers-thrust/\n",
      "66 https://nichyderabad.com/about/cohort-4/rent-hives/\n",
      "67 https://nichyderabad.com/about/cohort-4/brand-craft-studio/\n",
      "68 https://nichyderabad.com/about/cohort-4/furnishabhi/\n",
      "69 https://nichyderabad.com/about/cohort-4/bid-2-build/\n",
      "70 https://nichyderabad.com/about/cohort-4/asancars/\n",
      "71 https://nichyderabad.com/about/cohort-4/burq-7-tech/\n",
      "72 https://nichyderabad.com/about/cohort-4/aashi-herbs/\n",
      "73 https://nichyderabad.com/about/cohort-4/clothiex/\n",
      "74 https://nichyderabad.com/about/cohort-4/aurataaq/\n",
      "75 https://nichyderabad.com/?page_id=10985&preview=true\n",
      "76 https://nichyderabad.com/about/cohort-4/divine-knots/\n",
      "77 https://nichyderabad.com/about/cohort-4/islame/\n",
      "78 https://nichyderabad.com/about/cohort-4/farmloop-technologies/\n",
      "79 https://nichyderabad.com/?page_id=10953&preview=true\n"
     ]
    }
   ],
   "source": [
    "import re\n",
    "\n",
    "for i in NIC_df['NIC-URL'].index:\n",
    "  soup = get_soup(NIC_df['NIC-URL'][i])\n",
    "  table_div = soup.find('div', class_= re.compile(r'fusion-text fusion-text-2.*'))\n",
    "  print(i, NIC_df['NIC-URL'][i])\n",
    "  table = table_div.find('table')\n",
    "\n",
    "  # Iterate over each row in the table\n",
    "  for row in table.find_all('tr'):\n",
    "      # Extract columns from each row\n",
    "      columns = row.find_all('td')\n",
    "      # Get the text content of each column and strip any extra whitespace\n",
    "      columns = [col.get_text(strip=True) for col in columns]\n",
    "      # add this info to the NIC_df where only have three columns [company\tNIC-URL\tcohort]\n",
    "      if len(columns) >= 2:\n",
    "        NIC_df.loc[i, columns[0]] = columns[1]"
   ]
  },
  {
   "cell_type": "markdown",
   "id": "0c528ab3",
   "metadata": {
    "papermill": {
     "duration": 0.010617,
     "end_time": "2024-06-25T20:06:21.567165",
     "exception": false,
     "start_time": "2024-06-25T20:06:21.556548",
     "status": "completed"
    },
    "tags": []
   },
   "source": [
    "## 4. Saving the Data\n",
    "Finally, we save the collected and processed data to a CSV file for future analysis."
   ]
  },
  {
   "cell_type": "code",
   "execution_count": 13,
   "id": "6294f56d",
   "metadata": {
    "execution": {
     "iopub.execute_input": "2024-06-25T20:06:21.590977Z",
     "iopub.status.busy": "2024-06-25T20:06:21.590585Z",
     "iopub.status.idle": "2024-06-25T20:06:21.597942Z",
     "shell.execute_reply": "2024-06-25T20:06:21.596833Z"
    },
    "papermill": {
     "duration": 0.021947,
     "end_time": "2024-06-25T20:06:21.600109",
     "exception": false,
     "start_time": "2024-06-25T20:06:21.578162",
     "status": "completed"
    },
    "tags": []
   },
   "outputs": [
    {
     "data": {
      "text/plain": [
       "Index(['company', 'NIC-URL', 'cohort', 'STARTUP', 'STARTUP STAGE', 'DOMAIN',\n",
       "       'WEBSITE', 'FOUNDER', 'CONTACT', 'EMAIL'],\n",
       "      dtype='object')"
      ]
     },
     "execution_count": 13,
     "metadata": {},
     "output_type": "execute_result"
    }
   ],
   "source": [
    "NIC_df.columns"
   ]
  },
  {
   "cell_type": "code",
   "execution_count": 14,
   "id": "fbe4a9e9",
   "metadata": {
    "execution": {
     "iopub.execute_input": "2024-06-25T20:06:21.624762Z",
     "iopub.status.busy": "2024-06-25T20:06:21.624385Z",
     "iopub.status.idle": "2024-06-25T20:06:21.632138Z",
     "shell.execute_reply": "2024-06-25T20:06:21.630948Z"
    },
    "papermill": {
     "duration": 0.022705,
     "end_time": "2024-06-25T20:06:21.634549",
     "exception": false,
     "start_time": "2024-06-25T20:06:21.611844",
     "status": "completed"
    },
    "tags": []
   },
   "outputs": [],
   "source": [
    "NIC_df = NIC_df.replace('', pd.NA).replace('–', pd.NA)"
   ]
  },
  {
   "cell_type": "code",
   "execution_count": 15,
   "id": "6f515097",
   "metadata": {
    "execution": {
     "iopub.execute_input": "2024-06-25T20:06:21.658900Z",
     "iopub.status.busy": "2024-06-25T20:06:21.658427Z",
     "iopub.status.idle": "2024-06-25T20:06:21.668047Z",
     "shell.execute_reply": "2024-06-25T20:06:21.666975Z"
    },
    "papermill": {
     "duration": 0.024692,
     "end_time": "2024-06-25T20:06:21.670524",
     "exception": false,
     "start_time": "2024-06-25T20:06:21.645832",
     "status": "completed"
    },
    "tags": []
   },
   "outputs": [],
   "source": [
    "NIC_df.to_csv('NIC-hydrabad_startups-data.csv')"
   ]
  },
  {
   "cell_type": "markdown",
   "id": "3105d33e",
   "metadata": {
    "papermill": {
     "duration": 0.011373,
     "end_time": "2024-06-25T20:06:21.694373",
     "exception": false,
     "start_time": "2024-06-25T20:06:21.683000",
     "status": "completed"
    },
    "tags": []
   },
   "source": [
    "## Accessing the Data\n",
    "\n",
    "The dataset generated from this notebook can be accessed through GitHub: [NIC Startups Data](https://github.com/codewithawr/NIC-hydrabad-Startups-Data)"
   ]
  },
  {
   "cell_type": "markdown",
   "id": "ccf2397c",
   "metadata": {
    "papermill": {
     "duration": 0.010824,
     "end_time": "2024-06-25T20:06:21.716897",
     "exception": false,
     "start_time": "2024-06-25T20:06:21.706073",
     "status": "completed"
    },
    "tags": []
   },
   "source": [
    "## Appendix\n",
    "### Additional Information\n",
    "- Source: National Incubation Center (NIC) Hyderabad website\n",
    "- Date of Data Collection: 24/06/2024\n",
    "- Acknowledgments: Thanks to NIC Hyderabad for providing access to the startup information"
   ]
  }
 ],
 "metadata": {
  "kaggle": {
   "accelerator": "none",
   "dataSources": [],
   "dockerImageVersionId": 30732,
   "isGpuEnabled": false,
   "isInternetEnabled": true,
   "language": "python",
   "sourceType": "notebook"
  },
  "kernelspec": {
   "display_name": "Python 3",
   "language": "python",
   "name": "python3"
  },
  "language_info": {
   "codemirror_mode": {
    "name": "ipython",
    "version": 3
   },
   "file_extension": ".py",
   "mimetype": "text/x-python",
   "name": "python",
   "nbconvert_exporter": "python",
   "pygments_lexer": "ipython3",
   "version": "3.10.13"
  },
  "papermill": {
   "default_parameters": {},
   "duration": 69.09455,
   "end_time": "2024-06-25T20:06:22.248846",
   "environment_variables": {},
   "exception": null,
   "input_path": "__notebook__.ipynb",
   "output_path": "__notebook__.ipynb",
   "parameters": {},
   "start_time": "2024-06-25T20:05:13.154296",
   "version": "2.5.0"
  }
 },
 "nbformat": 4,
 "nbformat_minor": 5
}
